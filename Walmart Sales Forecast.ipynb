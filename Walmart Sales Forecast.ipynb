{
 "cells": [
  {
   "cell_type": "markdown",
   "metadata": {},
   "source": [
    "# Walmart Recruiting - Store Sales Forecasting"
   ]
  },
  {
   "cell_type": "markdown",
   "metadata": {},
   "source": [
    "## Importing the relevant libraries"
   ]
  },
  {
   "cell_type": "code",
   "execution_count": 86,
   "metadata": {},
   "outputs": [],
   "source": [
    "# We will need the following libraries and modules\n",
    "import numpy as np\n",
    "import pandas as pd\n",
    "import statsmodels.api as sm\n",
    "import matplotlib.pyplot as plt\n",
    "from sklearn.linear_model import *\n",
    "import seaborn as sns\n",
    "import datetime \n",
    "import time\n",
    "from time import gmtime, strftime\n",
    "from sklearn.cluster import KMeans\n",
    "from sklearn.ensemble import RandomForestRegressor \n",
    "from sklearn.preprocessing import StandardScaler   \n",
    "from sklearn.model_selection import GridSearchCV\n",
    "from sklearn.model_selection import train_test_split \n",
    "from sklearn.metrics import r2_score\n",
    "from sklearn.metrics import mean_squared_error\n",
    "import xgboost as xgb\n",
    "sns.set()"
   ]
  },
  {
   "cell_type": "markdown",
   "metadata": {},
   "source": [
    "## Loading source data"
   ]
  },
  {
   "cell_type": "code",
   "execution_count": 87,
   "metadata": {},
   "outputs": [],
   "source": [
    "# Load the data from a .csv in the same folder\n",
    "train_df = pd.read_csv('train.csv')\n",
    "test_df = pd.read_csv('test.csv')\n",
    "stores_df = pd.read_csv('stores.csv')\n",
    "features_df = pd.read_csv('features.csv')"
   ]
  },
  {
   "cell_type": "code",
   "execution_count": 88,
   "metadata": {},
   "outputs": [
    {
     "name": "stdout",
     "output_type": "stream",
     "text": [
      "   Store  Dept        Date  Weekly_Sales  IsHoliday\n",
      "0      1     1  2010-02-05      24924.50      False\n",
      "1      1     1  2010-02-12      46039.49       True\n",
      "2      1     1  2010-02-19      41595.55      False\n",
      "3      1     1  2010-02-26      19403.54      False\n",
      "4      1     1  2010-03-05      21827.90      False\n",
      "   Store  Dept        Date  IsHoliday\n",
      "0      1     1  2012-11-02      False\n",
      "1      1     1  2012-11-09      False\n",
      "2      1     1  2012-11-16      False\n",
      "3      1     1  2012-11-23       True\n",
      "4      1     1  2012-11-30      False\n",
      "   Store Type    Size\n",
      "0      1    A  151315\n",
      "1      2    A  202307\n",
      "2      3    B   37392\n",
      "3      4    A  205863\n",
      "4      5    B   34875\n",
      "   Store        Date  Temperature  Fuel_Price  MarkDown1  MarkDown2  \\\n",
      "0      1  2010-02-05        42.31       2.572        NaN        NaN   \n",
      "1      1  2010-02-12        38.51       2.548        NaN        NaN   \n",
      "2      1  2010-02-19        39.93       2.514        NaN        NaN   \n",
      "3      1  2010-02-26        46.63       2.561        NaN        NaN   \n",
      "4      1  2010-03-05        46.50       2.625        NaN        NaN   \n",
      "\n",
      "   MarkDown3  MarkDown4  MarkDown5         CPI  Unemployment  IsHoliday  \n",
      "0        NaN        NaN        NaN  211.096358         8.106      False  \n",
      "1        NaN        NaN        NaN  211.242170         8.106       True  \n",
      "2        NaN        NaN        NaN  211.289143         8.106      False  \n",
      "3        NaN        NaN        NaN  211.319643         8.106      False  \n",
      "4        NaN        NaN        NaN  211.350143         8.106      False  \n"
     ]
    }
   ],
   "source": [
    "# Let's explore the top 5 rows of the data\n",
    "print(train_df.head())\n",
    "print(test_df.head())\n",
    "print(stores_df.head())\n",
    "print(features_df.head())"
   ]
  },
  {
   "cell_type": "markdown",
   "metadata": {},
   "source": [
    "## Preprocessing"
   ]
  },
  {
   "cell_type": "code",
   "execution_count": 89,
   "metadata": {},
   "outputs": [],
   "source": [
    "trainall = pd.merge(train_df, stores_df, how='left', on=['Store'])\n",
    "trainall = pd.merge(trainall, features_df, how='left', on=['Store','Date'])\n",
    "\n",
    "testall = pd.merge(test_df, stores_df, how='left', on=['Store'])\n",
    "testall = pd.merge(testall, features_df, how='left', on=['Store','Date'])\n",
    "\n",
    "trainall.drop(columns=['IsHoliday_y'], axis=1, inplace=True)\n",
    "testall.drop(columns=['IsHoliday_y'], axis=1, inplace=True)\n",
    "\n",
    "trainall.rename(columns={'IsHoliday_x': 'IsHoliday'}, inplace=True)\n",
    "testall.rename(columns={'IsHoliday_x': 'IsHoliday'}, inplace=True)\n",
    "\n",
    "\n",
    "# Create Submission dataframe\n",
    "submission = testall[['Store', 'Dept', 'Date']].copy()\n",
    "submission['Id'] = submission['Store'].map(str) + '_' + submission['Dept'].map(str) + '_' + submission['Date'].map(str)\n",
    "submission.drop(['Store', 'Dept', 'Date'], axis=1, inplace=True)"
   ]
  },
  {
   "cell_type": "code",
   "execution_count": 91,
   "metadata": {},
   "outputs": [
    {
     "data": {
      "text/html": [
       "<div>\n",
       "<style scoped>\n",
       "    .dataframe tbody tr th:only-of-type {\n",
       "        vertical-align: middle;\n",
       "    }\n",
       "\n",
       "    .dataframe tbody tr th {\n",
       "        vertical-align: top;\n",
       "    }\n",
       "\n",
       "    .dataframe thead th {\n",
       "        text-align: right;\n",
       "    }\n",
       "</style>\n",
       "<table border=\"1\" class=\"dataframe\">\n",
       "  <thead>\n",
       "    <tr style=\"text-align: right;\">\n",
       "      <th></th>\n",
       "      <th>Type</th>\n",
       "    </tr>\n",
       "  </thead>\n",
       "  <tbody>\n",
       "    <tr>\n",
       "      <th>Store</th>\n",
       "      <td>int64</td>\n",
       "    </tr>\n",
       "    <tr>\n",
       "      <th>Dept</th>\n",
       "      <td>int64</td>\n",
       "    </tr>\n",
       "    <tr>\n",
       "      <th>Date</th>\n",
       "      <td>object</td>\n",
       "    </tr>\n",
       "    <tr>\n",
       "      <th>Weekly_Sales</th>\n",
       "      <td>float64</td>\n",
       "    </tr>\n",
       "    <tr>\n",
       "      <th>IsHoliday</th>\n",
       "      <td>bool</td>\n",
       "    </tr>\n",
       "    <tr>\n",
       "      <th>Type</th>\n",
       "      <td>object</td>\n",
       "    </tr>\n",
       "    <tr>\n",
       "      <th>Size</th>\n",
       "      <td>int64</td>\n",
       "    </tr>\n",
       "    <tr>\n",
       "      <th>Temperature</th>\n",
       "      <td>float64</td>\n",
       "    </tr>\n",
       "    <tr>\n",
       "      <th>Fuel_Price</th>\n",
       "      <td>float64</td>\n",
       "    </tr>\n",
       "    <tr>\n",
       "      <th>MarkDown1</th>\n",
       "      <td>float64</td>\n",
       "    </tr>\n",
       "    <tr>\n",
       "      <th>MarkDown2</th>\n",
       "      <td>float64</td>\n",
       "    </tr>\n",
       "    <tr>\n",
       "      <th>MarkDown3</th>\n",
       "      <td>float64</td>\n",
       "    </tr>\n",
       "    <tr>\n",
       "      <th>MarkDown4</th>\n",
       "      <td>float64</td>\n",
       "    </tr>\n",
       "    <tr>\n",
       "      <th>MarkDown5</th>\n",
       "      <td>float64</td>\n",
       "    </tr>\n",
       "    <tr>\n",
       "      <th>CPI</th>\n",
       "      <td>float64</td>\n",
       "    </tr>\n",
       "    <tr>\n",
       "      <th>Unemployment</th>\n",
       "      <td>float64</td>\n",
       "    </tr>\n",
       "  </tbody>\n",
       "</table>\n",
       "</div>"
      ],
      "text/plain": [
       "                 Type\n",
       "Store           int64\n",
       "Dept            int64\n",
       "Date           object\n",
       "Weekly_Sales  float64\n",
       "IsHoliday        bool\n",
       "Type           object\n",
       "Size            int64\n",
       "Temperature   float64\n",
       "Fuel_Price    float64\n",
       "MarkDown1     float64\n",
       "MarkDown2     float64\n",
       "MarkDown3     float64\n",
       "MarkDown4     float64\n",
       "MarkDown5     float64\n",
       "CPI           float64\n",
       "Unemployment  float64"
      ]
     },
     "execution_count": 91,
     "metadata": {},
     "output_type": "execute_result"
    }
   ],
   "source": [
    "#check data type\n",
    "pd.DataFrame(trainall.dtypes, columns=['Type'])"
   ]
  },
  {
   "cell_type": "code",
   "execution_count": 92,
   "metadata": {},
   "outputs": [
    {
     "data": {
      "text/html": [
       "<div>\n",
       "<style scoped>\n",
       "    .dataframe tbody tr th:only-of-type {\n",
       "        vertical-align: middle;\n",
       "    }\n",
       "\n",
       "    .dataframe tbody tr th {\n",
       "        vertical-align: top;\n",
       "    }\n",
       "\n",
       "    .dataframe thead th {\n",
       "        text-align: right;\n",
       "    }\n",
       "</style>\n",
       "<table border=\"1\" class=\"dataframe\">\n",
       "  <thead>\n",
       "    <tr style=\"text-align: right;\">\n",
       "      <th></th>\n",
       "      <th>Type</th>\n",
       "    </tr>\n",
       "  </thead>\n",
       "  <tbody>\n",
       "    <tr>\n",
       "      <th>Store</th>\n",
       "      <td>int64</td>\n",
       "    </tr>\n",
       "    <tr>\n",
       "      <th>Dept</th>\n",
       "      <td>int64</td>\n",
       "    </tr>\n",
       "    <tr>\n",
       "      <th>Date</th>\n",
       "      <td>datetime64[ns]</td>\n",
       "    </tr>\n",
       "    <tr>\n",
       "      <th>Weekly_Sales</th>\n",
       "      <td>float64</td>\n",
       "    </tr>\n",
       "    <tr>\n",
       "      <th>IsHoliday</th>\n",
       "      <td>bool</td>\n",
       "    </tr>\n",
       "    <tr>\n",
       "      <th>Type</th>\n",
       "      <td>object</td>\n",
       "    </tr>\n",
       "    <tr>\n",
       "      <th>Size</th>\n",
       "      <td>int64</td>\n",
       "    </tr>\n",
       "    <tr>\n",
       "      <th>Temperature</th>\n",
       "      <td>float64</td>\n",
       "    </tr>\n",
       "    <tr>\n",
       "      <th>Fuel_Price</th>\n",
       "      <td>float64</td>\n",
       "    </tr>\n",
       "    <tr>\n",
       "      <th>MarkDown1</th>\n",
       "      <td>float64</td>\n",
       "    </tr>\n",
       "    <tr>\n",
       "      <th>MarkDown2</th>\n",
       "      <td>float64</td>\n",
       "    </tr>\n",
       "    <tr>\n",
       "      <th>MarkDown3</th>\n",
       "      <td>float64</td>\n",
       "    </tr>\n",
       "    <tr>\n",
       "      <th>MarkDown4</th>\n",
       "      <td>float64</td>\n",
       "    </tr>\n",
       "    <tr>\n",
       "      <th>MarkDown5</th>\n",
       "      <td>float64</td>\n",
       "    </tr>\n",
       "    <tr>\n",
       "      <th>CPI</th>\n",
       "      <td>float64</td>\n",
       "    </tr>\n",
       "    <tr>\n",
       "      <th>Unemployment</th>\n",
       "      <td>float64</td>\n",
       "    </tr>\n",
       "  </tbody>\n",
       "</table>\n",
       "</div>"
      ],
      "text/plain": [
       "                        Type\n",
       "Store                  int64\n",
       "Dept                   int64\n",
       "Date          datetime64[ns]\n",
       "Weekly_Sales         float64\n",
       "IsHoliday               bool\n",
       "Type                  object\n",
       "Size                   int64\n",
       "Temperature          float64\n",
       "Fuel_Price           float64\n",
       "MarkDown1            float64\n",
       "MarkDown2            float64\n",
       "MarkDown3            float64\n",
       "MarkDown4            float64\n",
       "MarkDown5            float64\n",
       "CPI                  float64\n",
       "Unemployment         float64"
      ]
     },
     "execution_count": 92,
     "metadata": {},
     "output_type": "execute_result"
    }
   ],
   "source": [
    "# Convert the Date column attribute from object to datetime column\n",
    "trainall.Date = pd.to_datetime(trainall.Date)\n",
    "testall.Date = pd.to_datetime(testall.Date)\n",
    "#trainall.head()\n",
    "pd.DataFrame(trainall.dtypes, columns=['Type'])"
   ]
  },
  {
   "cell_type": "markdown",
   "metadata": {},
   "source": [
    "### Dealing with missing values"
   ]
  },
  {
   "cell_type": "code",
   "execution_count": 93,
   "metadata": {
    "scrolled": true
   },
   "outputs": [
    {
     "data": {
      "text/plain": [
       "Store                0\n",
       "Dept                 0\n",
       "Date                 0\n",
       "Weekly_Sales         0\n",
       "IsHoliday            0\n",
       "Type                 0\n",
       "Size                 0\n",
       "Temperature          0\n",
       "Fuel_Price           0\n",
       "MarkDown1       270889\n",
       "MarkDown2       310322\n",
       "MarkDown3       284479\n",
       "MarkDown4       286603\n",
       "MarkDown5       270138\n",
       "CPI                  0\n",
       "Unemployment         0\n",
       "dtype: int64"
      ]
     },
     "execution_count": 93,
     "metadata": {},
     "output_type": "execute_result"
    }
   ],
   "source": [
    "# data.isnull() # shows a df with the information whether a data point is null \n",
    "# Since True = the data point is missing, while False = the data point is not missing, we can sum them\n",
    "# This will give us the total number of missing values feature-wise\n",
    "trainall.isnull().sum()"
   ]
  },
  {
   "cell_type": "code",
   "execution_count": 94,
   "metadata": {},
   "outputs": [
    {
     "data": {
      "text/plain": [
       "Store           0\n",
       "Dept            0\n",
       "Date            0\n",
       "Weekly_Sales    0\n",
       "IsHoliday       0\n",
       "Type            0\n",
       "Size            0\n",
       "Temperature     0\n",
       "Fuel_Price      0\n",
       "MarkDown1       0\n",
       "MarkDown2       0\n",
       "MarkDown3       0\n",
       "MarkDown4       0\n",
       "MarkDown5       0\n",
       "CPI             0\n",
       "Unemployment    0\n",
       "dtype: int64"
      ]
     },
     "execution_count": 94,
     "metadata": {},
     "output_type": "execute_result"
    }
   ],
   "source": [
    "#Lets convert all NaN value to '0' as simply droping all missing values is not always recommended\n",
    "# Also make all value absolute because I am under the assumption that markdown are not negative values, as that will suggest \n",
    "#that the price of goods at walmart has been increased rather down marked down(reduction) e.g (+) values means reduction while\n",
    "#(-) values will be addition in tis case.\n",
    "trainall[['MarkDown1','MarkDown2','MarkDown3','MarkDown4', 'MarkDown5']] = trainall[['MarkDown1','MarkDown2','MarkDown3','MarkDown4','MarkDown5']].fillna(0)\n",
    "testall[['MarkDown1','MarkDown2','MarkDown3','MarkDown4', 'MarkDown5']] = testall[['MarkDown1','MarkDown2','MarkDown3','MarkDown4','MarkDown5']].fillna(0)\n",
    "trainall[['MarkDown1','MarkDown2','MarkDown3','MarkDown4', 'MarkDown5']] = abs(trainall[['MarkDown1','MarkDown2','MarkDown3','MarkDown4','MarkDown5']])\n",
    "testall[['MarkDown1','MarkDown2','MarkDown3','MarkDown4', 'MarkDown5']] = abs(testall[['MarkDown1','MarkDown2','MarkDown3','MarkDown4','MarkDown5']])\n",
    "\n",
    "# lets view if we have any null value in the dataset\n",
    "trainall.isnull().sum()"
   ]
  },
  {
   "cell_type": "markdown",
   "metadata": {},
   "source": [
    "### Dealing with outliers"
   ]
  },
  {
   "cell_type": "code",
   "execution_count": 95,
   "metadata": {},
   "outputs": [
    {
     "data": {
      "text/html": [
       "<div>\n",
       "<style scoped>\n",
       "    .dataframe tbody tr th:only-of-type {\n",
       "        vertical-align: middle;\n",
       "    }\n",
       "\n",
       "    .dataframe tbody tr th {\n",
       "        vertical-align: top;\n",
       "    }\n",
       "\n",
       "    .dataframe thead th {\n",
       "        text-align: right;\n",
       "    }\n",
       "</style>\n",
       "<table border=\"1\" class=\"dataframe\">\n",
       "  <thead>\n",
       "    <tr style=\"text-align: right;\">\n",
       "      <th></th>\n",
       "      <th>Store</th>\n",
       "      <th>Dept</th>\n",
       "      <th>Date</th>\n",
       "      <th>Weekly_Sales</th>\n",
       "      <th>IsHoliday</th>\n",
       "      <th>Type</th>\n",
       "      <th>Size</th>\n",
       "      <th>Temperature</th>\n",
       "      <th>Fuel_Price</th>\n",
       "      <th>MarkDown1</th>\n",
       "      <th>MarkDown2</th>\n",
       "      <th>MarkDown3</th>\n",
       "      <th>MarkDown4</th>\n",
       "      <th>MarkDown5</th>\n",
       "      <th>CPI</th>\n",
       "      <th>Unemployment</th>\n",
       "    </tr>\n",
       "  </thead>\n",
       "  <tbody>\n",
       "    <tr>\n",
       "      <th>count</th>\n",
       "      <td>421570.000000</td>\n",
       "      <td>421570.000000</td>\n",
       "      <td>421570</td>\n",
       "      <td>421570.000000</td>\n",
       "      <td>421570</td>\n",
       "      <td>421570</td>\n",
       "      <td>421570.000000</td>\n",
       "      <td>421570.000000</td>\n",
       "      <td>421570.000000</td>\n",
       "      <td>421570.000000</td>\n",
       "      <td>421570.000000</td>\n",
       "      <td>421570.000000</td>\n",
       "      <td>421570.000000</td>\n",
       "      <td>421570.000000</td>\n",
       "      <td>421570.000000</td>\n",
       "      <td>421570.000000</td>\n",
       "    </tr>\n",
       "    <tr>\n",
       "      <th>unique</th>\n",
       "      <td>NaN</td>\n",
       "      <td>NaN</td>\n",
       "      <td>143</td>\n",
       "      <td>NaN</td>\n",
       "      <td>2</td>\n",
       "      <td>3</td>\n",
       "      <td>NaN</td>\n",
       "      <td>NaN</td>\n",
       "      <td>NaN</td>\n",
       "      <td>NaN</td>\n",
       "      <td>NaN</td>\n",
       "      <td>NaN</td>\n",
       "      <td>NaN</td>\n",
       "      <td>NaN</td>\n",
       "      <td>NaN</td>\n",
       "      <td>NaN</td>\n",
       "    </tr>\n",
       "    <tr>\n",
       "      <th>top</th>\n",
       "      <td>NaN</td>\n",
       "      <td>NaN</td>\n",
       "      <td>2011-12-23 00:00:00</td>\n",
       "      <td>NaN</td>\n",
       "      <td>False</td>\n",
       "      <td>A</td>\n",
       "      <td>NaN</td>\n",
       "      <td>NaN</td>\n",
       "      <td>NaN</td>\n",
       "      <td>NaN</td>\n",
       "      <td>NaN</td>\n",
       "      <td>NaN</td>\n",
       "      <td>NaN</td>\n",
       "      <td>NaN</td>\n",
       "      <td>NaN</td>\n",
       "      <td>NaN</td>\n",
       "    </tr>\n",
       "    <tr>\n",
       "      <th>freq</th>\n",
       "      <td>NaN</td>\n",
       "      <td>NaN</td>\n",
       "      <td>3027</td>\n",
       "      <td>NaN</td>\n",
       "      <td>391909</td>\n",
       "      <td>215478</td>\n",
       "      <td>NaN</td>\n",
       "      <td>NaN</td>\n",
       "      <td>NaN</td>\n",
       "      <td>NaN</td>\n",
       "      <td>NaN</td>\n",
       "      <td>NaN</td>\n",
       "      <td>NaN</td>\n",
       "      <td>NaN</td>\n",
       "      <td>NaN</td>\n",
       "      <td>NaN</td>\n",
       "    </tr>\n",
       "    <tr>\n",
       "      <th>first</th>\n",
       "      <td>NaN</td>\n",
       "      <td>NaN</td>\n",
       "      <td>2010-02-05 00:00:00</td>\n",
       "      <td>NaN</td>\n",
       "      <td>NaN</td>\n",
       "      <td>NaN</td>\n",
       "      <td>NaN</td>\n",
       "      <td>NaN</td>\n",
       "      <td>NaN</td>\n",
       "      <td>NaN</td>\n",
       "      <td>NaN</td>\n",
       "      <td>NaN</td>\n",
       "      <td>NaN</td>\n",
       "      <td>NaN</td>\n",
       "      <td>NaN</td>\n",
       "      <td>NaN</td>\n",
       "    </tr>\n",
       "    <tr>\n",
       "      <th>last</th>\n",
       "      <td>NaN</td>\n",
       "      <td>NaN</td>\n",
       "      <td>2012-10-26 00:00:00</td>\n",
       "      <td>NaN</td>\n",
       "      <td>NaN</td>\n",
       "      <td>NaN</td>\n",
       "      <td>NaN</td>\n",
       "      <td>NaN</td>\n",
       "      <td>NaN</td>\n",
       "      <td>NaN</td>\n",
       "      <td>NaN</td>\n",
       "      <td>NaN</td>\n",
       "      <td>NaN</td>\n",
       "      <td>NaN</td>\n",
       "      <td>NaN</td>\n",
       "      <td>NaN</td>\n",
       "    </tr>\n",
       "    <tr>\n",
       "      <th>mean</th>\n",
       "      <td>22.200546</td>\n",
       "      <td>44.260317</td>\n",
       "      <td>NaN</td>\n",
       "      <td>15981.258123</td>\n",
       "      <td>NaN</td>\n",
       "      <td>NaN</td>\n",
       "      <td>136727.915739</td>\n",
       "      <td>60.090059</td>\n",
       "      <td>3.361027</td>\n",
       "      <td>2590.074819</td>\n",
       "      <td>880.166251</td>\n",
       "      <td>468.098193</td>\n",
       "      <td>1083.132268</td>\n",
       "      <td>1662.772385</td>\n",
       "      <td>171.201947</td>\n",
       "      <td>7.960289</td>\n",
       "    </tr>\n",
       "    <tr>\n",
       "      <th>std</th>\n",
       "      <td>12.785297</td>\n",
       "      <td>30.492054</td>\n",
       "      <td>NaN</td>\n",
       "      <td>22711.183519</td>\n",
       "      <td>NaN</td>\n",
       "      <td>NaN</td>\n",
       "      <td>60980.583328</td>\n",
       "      <td>18.447931</td>\n",
       "      <td>0.458515</td>\n",
       "      <td>6052.385934</td>\n",
       "      <td>5084.505576</td>\n",
       "      <td>5528.872561</td>\n",
       "      <td>3894.529945</td>\n",
       "      <td>4207.629321</td>\n",
       "      <td>39.159276</td>\n",
       "      <td>1.863296</td>\n",
       "    </tr>\n",
       "    <tr>\n",
       "      <th>min</th>\n",
       "      <td>1.000000</td>\n",
       "      <td>1.000000</td>\n",
       "      <td>NaN</td>\n",
       "      <td>-4988.940000</td>\n",
       "      <td>NaN</td>\n",
       "      <td>NaN</td>\n",
       "      <td>34875.000000</td>\n",
       "      <td>-2.060000</td>\n",
       "      <td>2.472000</td>\n",
       "      <td>0.000000</td>\n",
       "      <td>0.000000</td>\n",
       "      <td>0.000000</td>\n",
       "      <td>0.000000</td>\n",
       "      <td>0.000000</td>\n",
       "      <td>126.064000</td>\n",
       "      <td>3.879000</td>\n",
       "    </tr>\n",
       "    <tr>\n",
       "      <th>25%</th>\n",
       "      <td>11.000000</td>\n",
       "      <td>18.000000</td>\n",
       "      <td>NaN</td>\n",
       "      <td>2079.650000</td>\n",
       "      <td>NaN</td>\n",
       "      <td>NaN</td>\n",
       "      <td>93638.000000</td>\n",
       "      <td>46.680000</td>\n",
       "      <td>2.933000</td>\n",
       "      <td>0.000000</td>\n",
       "      <td>0.000000</td>\n",
       "      <td>0.000000</td>\n",
       "      <td>0.000000</td>\n",
       "      <td>0.000000</td>\n",
       "      <td>132.022667</td>\n",
       "      <td>6.891000</td>\n",
       "    </tr>\n",
       "    <tr>\n",
       "      <th>50%</th>\n",
       "      <td>22.000000</td>\n",
       "      <td>37.000000</td>\n",
       "      <td>NaN</td>\n",
       "      <td>7612.030000</td>\n",
       "      <td>NaN</td>\n",
       "      <td>NaN</td>\n",
       "      <td>140167.000000</td>\n",
       "      <td>62.090000</td>\n",
       "      <td>3.452000</td>\n",
       "      <td>0.000000</td>\n",
       "      <td>0.000000</td>\n",
       "      <td>0.000000</td>\n",
       "      <td>0.000000</td>\n",
       "      <td>0.000000</td>\n",
       "      <td>182.318780</td>\n",
       "      <td>7.866000</td>\n",
       "    </tr>\n",
       "    <tr>\n",
       "      <th>75%</th>\n",
       "      <td>33.000000</td>\n",
       "      <td>74.000000</td>\n",
       "      <td>NaN</td>\n",
       "      <td>20205.852500</td>\n",
       "      <td>NaN</td>\n",
       "      <td>NaN</td>\n",
       "      <td>202505.000000</td>\n",
       "      <td>74.280000</td>\n",
       "      <td>3.738000</td>\n",
       "      <td>2809.050000</td>\n",
       "      <td>3.000000</td>\n",
       "      <td>4.540000</td>\n",
       "      <td>425.290000</td>\n",
       "      <td>2168.040000</td>\n",
       "      <td>212.416993</td>\n",
       "      <td>8.572000</td>\n",
       "    </tr>\n",
       "    <tr>\n",
       "      <th>max</th>\n",
       "      <td>45.000000</td>\n",
       "      <td>99.000000</td>\n",
       "      <td>NaN</td>\n",
       "      <td>693099.360000</td>\n",
       "      <td>NaN</td>\n",
       "      <td>NaN</td>\n",
       "      <td>219622.000000</td>\n",
       "      <td>100.140000</td>\n",
       "      <td>4.468000</td>\n",
       "      <td>88646.760000</td>\n",
       "      <td>104519.540000</td>\n",
       "      <td>141630.610000</td>\n",
       "      <td>67474.850000</td>\n",
       "      <td>108519.280000</td>\n",
       "      <td>227.232807</td>\n",
       "      <td>14.313000</td>\n",
       "    </tr>\n",
       "  </tbody>\n",
       "</table>\n",
       "</div>"
      ],
      "text/plain": [
       "                Store           Dept                 Date   Weekly_Sales  \\\n",
       "count   421570.000000  421570.000000               421570  421570.000000   \n",
       "unique            NaN            NaN                  143            NaN   \n",
       "top               NaN            NaN  2011-12-23 00:00:00            NaN   \n",
       "freq              NaN            NaN                 3027            NaN   \n",
       "first             NaN            NaN  2010-02-05 00:00:00            NaN   \n",
       "last              NaN            NaN  2012-10-26 00:00:00            NaN   \n",
       "mean        22.200546      44.260317                  NaN   15981.258123   \n",
       "std         12.785297      30.492054                  NaN   22711.183519   \n",
       "min          1.000000       1.000000                  NaN   -4988.940000   \n",
       "25%         11.000000      18.000000                  NaN    2079.650000   \n",
       "50%         22.000000      37.000000                  NaN    7612.030000   \n",
       "75%         33.000000      74.000000                  NaN   20205.852500   \n",
       "max         45.000000      99.000000                  NaN  693099.360000   \n",
       "\n",
       "       IsHoliday    Type           Size    Temperature     Fuel_Price  \\\n",
       "count     421570  421570  421570.000000  421570.000000  421570.000000   \n",
       "unique         2       3            NaN            NaN            NaN   \n",
       "top        False       A            NaN            NaN            NaN   \n",
       "freq      391909  215478            NaN            NaN            NaN   \n",
       "first        NaN     NaN            NaN            NaN            NaN   \n",
       "last         NaN     NaN            NaN            NaN            NaN   \n",
       "mean         NaN     NaN  136727.915739      60.090059       3.361027   \n",
       "std          NaN     NaN   60980.583328      18.447931       0.458515   \n",
       "min          NaN     NaN   34875.000000      -2.060000       2.472000   \n",
       "25%          NaN     NaN   93638.000000      46.680000       2.933000   \n",
       "50%          NaN     NaN  140167.000000      62.090000       3.452000   \n",
       "75%          NaN     NaN  202505.000000      74.280000       3.738000   \n",
       "max          NaN     NaN  219622.000000     100.140000       4.468000   \n",
       "\n",
       "            MarkDown1      MarkDown2      MarkDown3      MarkDown4  \\\n",
       "count   421570.000000  421570.000000  421570.000000  421570.000000   \n",
       "unique            NaN            NaN            NaN            NaN   \n",
       "top               NaN            NaN            NaN            NaN   \n",
       "freq              NaN            NaN            NaN            NaN   \n",
       "first             NaN            NaN            NaN            NaN   \n",
       "last              NaN            NaN            NaN            NaN   \n",
       "mean      2590.074819     880.166251     468.098193    1083.132268   \n",
       "std       6052.385934    5084.505576    5528.872561    3894.529945   \n",
       "min          0.000000       0.000000       0.000000       0.000000   \n",
       "25%          0.000000       0.000000       0.000000       0.000000   \n",
       "50%          0.000000       0.000000       0.000000       0.000000   \n",
       "75%       2809.050000       3.000000       4.540000     425.290000   \n",
       "max      88646.760000  104519.540000  141630.610000   67474.850000   \n",
       "\n",
       "            MarkDown5            CPI   Unemployment  \n",
       "count   421570.000000  421570.000000  421570.000000  \n",
       "unique            NaN            NaN            NaN  \n",
       "top               NaN            NaN            NaN  \n",
       "freq              NaN            NaN            NaN  \n",
       "first             NaN            NaN            NaN  \n",
       "last              NaN            NaN            NaN  \n",
       "mean      1662.772385     171.201947       7.960289  \n",
       "std       4207.629321      39.159276       1.863296  \n",
       "min          0.000000     126.064000       3.879000  \n",
       "25%          0.000000     132.022667       6.891000  \n",
       "50%          0.000000     182.318780       7.866000  \n",
       "75%       2168.040000     212.416993       8.572000  \n",
       "max     108519.280000     227.232807      14.313000  "
      ]
     },
     "execution_count": 95,
     "metadata": {},
     "output_type": "execute_result"
    }
   ],
   "source": [
    "# Let's check the descriptives without 'Model'\n",
    "trainall.describe(include='all')"
   ]
  },
  {
   "cell_type": "code",
   "execution_count": 96,
   "metadata": {},
   "outputs": [
    {
     "data": {
      "text/plain": [
       "<matplotlib.axes._subplots.AxesSubplot at 0x216806552c8>"
      ]
     },
     "execution_count": 96,
     "metadata": {},
     "output_type": "execute_result"
    },
    {
     "data": {
      "image/png": "[encoded data removed]",
      "text/plain": [
       "<Figure size 432x288 with 1 Axes>"
      ]
     },
     "metadata": {},
     "output_type": "display_data"
    }
   ],
   "source": [
    "# A great step in the data exploration is to display the probability distribution function (PDF) of a variable\n",
    "# The PDF will show us how that variable is distributed \n",
    "# This makes it very easy to spot anomalies, such as outliers\n",
    "# The PDF is often the basis on which we decide whether we want to transform a feature\n",
    "sns.distplot(trainall['Weekly_Sales'])"
   ]
  },
  {
   "cell_type": "code",
   "execution_count": 97,
   "metadata": {},
   "outputs": [
    {
     "data": {
      "text/html": [
       "<div>\n",
       "<style scoped>\n",
       "    .dataframe tbody tr th:only-of-type {\n",
       "        vertical-align: middle;\n",
       "    }\n",
       "\n",
       "    .dataframe tbody tr th {\n",
       "        vertical-align: top;\n",
       "    }\n",
       "\n",
       "    .dataframe thead th {\n",
       "        text-align: right;\n",
       "    }\n",
       "</style>\n",
       "<table border=\"1\" class=\"dataframe\">\n",
       "  <thead>\n",
       "    <tr style=\"text-align: right;\">\n",
       "      <th></th>\n",
       "      <th>Store</th>\n",
       "      <th>Dept</th>\n",
       "      <th>Date</th>\n",
       "      <th>Weekly_Sales</th>\n",
       "      <th>IsHoliday</th>\n",
       "      <th>Type</th>\n",
       "      <th>Size</th>\n",
       "      <th>Temperature</th>\n",
       "      <th>Fuel_Price</th>\n",
       "      <th>MarkDown1</th>\n",
       "      <th>MarkDown2</th>\n",
       "      <th>MarkDown3</th>\n",
       "      <th>MarkDown4</th>\n",
       "      <th>MarkDown5</th>\n",
       "      <th>CPI</th>\n",
       "      <th>Unemployment</th>\n",
       "    </tr>\n",
       "  </thead>\n",
       "  <tbody>\n",
       "    <tr>\n",
       "      <th>count</th>\n",
       "      <td>419564.000000</td>\n",
       "      <td>419564.000000</td>\n",
       "      <td>419564</td>\n",
       "      <td>419564.000000</td>\n",
       "      <td>419564</td>\n",
       "      <td>419564</td>\n",
       "      <td>419564.000000</td>\n",
       "      <td>419564.000000</td>\n",
       "      <td>419564.000000</td>\n",
       "      <td>419564.000000</td>\n",
       "      <td>419564.000000</td>\n",
       "      <td>419564.000000</td>\n",
       "      <td>419564.000000</td>\n",
       "      <td>419564.000000</td>\n",
       "      <td>419564.000000</td>\n",
       "      <td>419564.000000</td>\n",
       "    </tr>\n",
       "    <tr>\n",
       "      <th>unique</th>\n",
       "      <td>NaN</td>\n",
       "      <td>NaN</td>\n",
       "      <td>143</td>\n",
       "      <td>NaN</td>\n",
       "      <td>2</td>\n",
       "      <td>3</td>\n",
       "      <td>NaN</td>\n",
       "      <td>NaN</td>\n",
       "      <td>NaN</td>\n",
       "      <td>NaN</td>\n",
       "      <td>NaN</td>\n",
       "      <td>NaN</td>\n",
       "      <td>NaN</td>\n",
       "      <td>NaN</td>\n",
       "      <td>NaN</td>\n",
       "      <td>NaN</td>\n",
       "    </tr>\n",
       "    <tr>\n",
       "      <th>top</th>\n",
       "      <td>NaN</td>\n",
       "      <td>NaN</td>\n",
       "      <td>2011-11-25 00:00:00</td>\n",
       "      <td>NaN</td>\n",
       "      <td>False</td>\n",
       "      <td>A</td>\n",
       "      <td>NaN</td>\n",
       "      <td>NaN</td>\n",
       "      <td>NaN</td>\n",
       "      <td>NaN</td>\n",
       "      <td>NaN</td>\n",
       "      <td>NaN</td>\n",
       "      <td>NaN</td>\n",
       "      <td>NaN</td>\n",
       "      <td>NaN</td>\n",
       "      <td>NaN</td>\n",
       "    </tr>\n",
       "    <tr>\n",
       "      <th>freq</th>\n",
       "      <td>NaN</td>\n",
       "      <td>NaN</td>\n",
       "      <td>3016</td>\n",
       "      <td>NaN</td>\n",
       "      <td>390028</td>\n",
       "      <td>214593</td>\n",
       "      <td>NaN</td>\n",
       "      <td>NaN</td>\n",
       "      <td>NaN</td>\n",
       "      <td>NaN</td>\n",
       "      <td>NaN</td>\n",
       "      <td>NaN</td>\n",
       "      <td>NaN</td>\n",
       "      <td>NaN</td>\n",
       "      <td>NaN</td>\n",
       "      <td>NaN</td>\n",
       "    </tr>\n",
       "    <tr>\n",
       "      <th>first</th>\n",
       "      <td>NaN</td>\n",
       "      <td>NaN</td>\n",
       "      <td>2010-02-05 00:00:00</td>\n",
       "      <td>NaN</td>\n",
       "      <td>NaN</td>\n",
       "      <td>NaN</td>\n",
       "      <td>NaN</td>\n",
       "      <td>NaN</td>\n",
       "      <td>NaN</td>\n",
       "      <td>NaN</td>\n",
       "      <td>NaN</td>\n",
       "      <td>NaN</td>\n",
       "      <td>NaN</td>\n",
       "      <td>NaN</td>\n",
       "      <td>NaN</td>\n",
       "      <td>NaN</td>\n",
       "    </tr>\n",
       "    <tr>\n",
       "      <th>last</th>\n",
       "      <td>NaN</td>\n",
       "      <td>NaN</td>\n",
       "      <td>2012-10-26 00:00:00</td>\n",
       "      <td>NaN</td>\n",
       "      <td>NaN</td>\n",
       "      <td>NaN</td>\n",
       "      <td>NaN</td>\n",
       "      <td>NaN</td>\n",
       "      <td>NaN</td>\n",
       "      <td>NaN</td>\n",
       "      <td>NaN</td>\n",
       "      <td>NaN</td>\n",
       "      <td>NaN</td>\n",
       "      <td>NaN</td>\n",
       "      <td>NaN</td>\n",
       "      <td>NaN</td>\n",
       "    </tr>\n",
       "    <tr>\n",
       "      <th>mean</th>\n",
       "      <td>22.193577</td>\n",
       "      <td>44.230353</td>\n",
       "      <td>NaN</td>\n",
       "      <td>16057.876531</td>\n",
       "      <td>NaN</td>\n",
       "      <td>NaN</td>\n",
       "      <td>136747.281578</td>\n",
       "      <td>60.074925</td>\n",
       "      <td>3.360749</td>\n",
       "      <td>2589.352582</td>\n",
       "      <td>880.170994</td>\n",
       "      <td>469.548841</td>\n",
       "      <td>1083.286504</td>\n",
       "      <td>1661.304132</td>\n",
       "      <td>171.204401</td>\n",
       "      <td>7.960345</td>\n",
       "    </tr>\n",
       "    <tr>\n",
       "      <th>std</th>\n",
       "      <td>12.786596</td>\n",
       "      <td>30.497080</td>\n",
       "      <td>NaN</td>\n",
       "      <td>22738.296157</td>\n",
       "      <td>NaN</td>\n",
       "      <td>NaN</td>\n",
       "      <td>60989.210629</td>\n",
       "      <td>18.449282</td>\n",
       "      <td>0.458551</td>\n",
       "      <td>6054.136336</td>\n",
       "      <td>5080.441862</td>\n",
       "      <td>5538.312107</td>\n",
       "      <td>3897.767850</td>\n",
       "      <td>4196.952056</td>\n",
       "      <td>39.160131</td>\n",
       "      <td>1.864053</td>\n",
       "    </tr>\n",
       "    <tr>\n",
       "      <th>min</th>\n",
       "      <td>1.000000</td>\n",
       "      <td>1.000000</td>\n",
       "      <td>NaN</td>\n",
       "      <td>1.000000</td>\n",
       "      <td>NaN</td>\n",
       "      <td>NaN</td>\n",
       "      <td>34875.000000</td>\n",
       "      <td>-2.060000</td>\n",
       "      <td>2.472000</td>\n",
       "      <td>0.000000</td>\n",
       "      <td>0.000000</td>\n",
       "      <td>0.000000</td>\n",
       "      <td>0.000000</td>\n",
       "      <td>0.000000</td>\n",
       "      <td>126.064000</td>\n",
       "      <td>3.879000</td>\n",
       "    </tr>\n",
       "    <tr>\n",
       "      <th>25%</th>\n",
       "      <td>11.000000</td>\n",
       "      <td>18.000000</td>\n",
       "      <td>NaN</td>\n",
       "      <td>2139.490000</td>\n",
       "      <td>NaN</td>\n",
       "      <td>NaN</td>\n",
       "      <td>93638.000000</td>\n",
       "      <td>46.670000</td>\n",
       "      <td>2.933000</td>\n",
       "      <td>0.000000</td>\n",
       "      <td>0.000000</td>\n",
       "      <td>0.000000</td>\n",
       "      <td>0.000000</td>\n",
       "      <td>0.000000</td>\n",
       "      <td>132.022667</td>\n",
       "      <td>6.891000</td>\n",
       "    </tr>\n",
       "    <tr>\n",
       "      <th>50%</th>\n",
       "      <td>22.000000</td>\n",
       "      <td>37.000000</td>\n",
       "      <td>NaN</td>\n",
       "      <td>7689.280000</td>\n",
       "      <td>NaN</td>\n",
       "      <td>NaN</td>\n",
       "      <td>140167.000000</td>\n",
       "      <td>62.070000</td>\n",
       "      <td>3.452000</td>\n",
       "      <td>0.000000</td>\n",
       "      <td>0.000000</td>\n",
       "      <td>0.000000</td>\n",
       "      <td>0.000000</td>\n",
       "      <td>0.000000</td>\n",
       "      <td>182.350989</td>\n",
       "      <td>7.866000</td>\n",
       "    </tr>\n",
       "    <tr>\n",
       "      <th>75%</th>\n",
       "      <td>33.000000</td>\n",
       "      <td>74.000000</td>\n",
       "      <td>NaN</td>\n",
       "      <td>20300.582500</td>\n",
       "      <td>NaN</td>\n",
       "      <td>NaN</td>\n",
       "      <td>202505.000000</td>\n",
       "      <td>74.260000</td>\n",
       "      <td>3.737000</td>\n",
       "      <td>2801.500000</td>\n",
       "      <td>3.000000</td>\n",
       "      <td>4.540000</td>\n",
       "      <td>424.660000</td>\n",
       "      <td>2164.960000</td>\n",
       "      <td>212.416993</td>\n",
       "      <td>8.567000</td>\n",
       "    </tr>\n",
       "    <tr>\n",
       "      <th>max</th>\n",
       "      <td>45.000000</td>\n",
       "      <td>99.000000</td>\n",
       "      <td>NaN</td>\n",
       "      <td>693099.360000</td>\n",
       "      <td>NaN</td>\n",
       "      <td>NaN</td>\n",
       "      <td>219622.000000</td>\n",
       "      <td>100.140000</td>\n",
       "      <td>4.468000</td>\n",
       "      <td>88646.760000</td>\n",
       "      <td>104519.540000</td>\n",
       "      <td>141630.610000</td>\n",
       "      <td>67474.850000</td>\n",
       "      <td>108519.280000</td>\n",
       "      <td>227.232807</td>\n",
       "      <td>14.313000</td>\n",
       "    </tr>\n",
       "  </tbody>\n",
       "</table>\n",
       "</div>"
      ],
      "text/plain": [
       "                Store           Dept                 Date   Weekly_Sales  \\\n",
       "count   419564.000000  419564.000000               419564  419564.000000   \n",
       "unique            NaN            NaN                  143            NaN   \n",
       "top               NaN            NaN  2011-11-25 00:00:00            NaN   \n",
       "freq              NaN            NaN                 3016            NaN   \n",
       "first             NaN            NaN  2010-02-05 00:00:00            NaN   \n",
       "last              NaN            NaN  2012-10-26 00:00:00            NaN   \n",
       "mean        22.193577      44.230353                  NaN   16057.876531   \n",
       "std         12.786596      30.497080                  NaN   22738.296157   \n",
       "min          1.000000       1.000000                  NaN       1.000000   \n",
       "25%         11.000000      18.000000                  NaN    2139.490000   \n",
       "50%         22.000000      37.000000                  NaN    7689.280000   \n",
       "75%         33.000000      74.000000                  NaN   20300.582500   \n",
       "max         45.000000      99.000000                  NaN  693099.360000   \n",
       "\n",
       "       IsHoliday    Type           Size    Temperature     Fuel_Price  \\\n",
       "count     419564  419564  419564.000000  419564.000000  419564.000000   \n",
       "unique         2       3            NaN            NaN            NaN   \n",
       "top        False       A            NaN            NaN            NaN   \n",
       "freq      390028  214593            NaN            NaN            NaN   \n",
       "first        NaN     NaN            NaN            NaN            NaN   \n",
       "last         NaN     NaN            NaN            NaN            NaN   \n",
       "mean         NaN     NaN  136747.281578      60.074925       3.360749   \n",
       "std          NaN     NaN   60989.210629      18.449282       0.458551   \n",
       "min          NaN     NaN   34875.000000      -2.060000       2.472000   \n",
       "25%          NaN     NaN   93638.000000      46.670000       2.933000   \n",
       "50%          NaN     NaN  140167.000000      62.070000       3.452000   \n",
       "75%          NaN     NaN  202505.000000      74.260000       3.737000   \n",
       "max          NaN     NaN  219622.000000     100.140000       4.468000   \n",
       "\n",
       "            MarkDown1      MarkDown2      MarkDown3      MarkDown4  \\\n",
       "count   419564.000000  419564.000000  419564.000000  419564.000000   \n",
       "unique            NaN            NaN            NaN            NaN   \n",
       "top               NaN            NaN            NaN            NaN   \n",
       "freq              NaN            NaN            NaN            NaN   \n",
       "first             NaN            NaN            NaN            NaN   \n",
       "last              NaN            NaN            NaN            NaN   \n",
       "mean      2589.352582     880.170994     469.548841    1083.286504   \n",
       "std       6054.136336    5080.441862    5538.312107    3897.767850   \n",
       "min          0.000000       0.000000       0.000000       0.000000   \n",
       "25%          0.000000       0.000000       0.000000       0.000000   \n",
       "50%          0.000000       0.000000       0.000000       0.000000   \n",
       "75%       2801.500000       3.000000       4.540000     424.660000   \n",
       "max      88646.760000  104519.540000  141630.610000   67474.850000   \n",
       "\n",
       "            MarkDown5            CPI   Unemployment  \n",
       "count   419564.000000  419564.000000  419564.000000  \n",
       "unique            NaN            NaN            NaN  \n",
       "top               NaN            NaN            NaN  \n",
       "freq              NaN            NaN            NaN  \n",
       "first             NaN            NaN            NaN  \n",
       "last              NaN            NaN            NaN  \n",
       "mean      1661.304132     171.204401       7.960345  \n",
       "std       4196.952056      39.160131       1.864053  \n",
       "min          0.000000     126.064000       3.879000  \n",
       "25%          0.000000     132.022667       6.891000  \n",
       "50%          0.000000     182.350989       7.866000  \n",
       "75%       2164.960000     212.416993       8.567000  \n",
       "max     108519.280000     227.232807      14.313000  "
      ]
     },
     "execution_count": 97,
     "metadata": {},
     "output_type": "execute_result"
    }
   ],
   "source": [
    "# Obviously there are some outliers present especially the negative value\n",
    "\n",
    "# Outliers are a great issue for OLS, thus we must deal with them in some way\n",
    "# It may be a useful exercise to try training a model without removing the outliers\n",
    "# but in this case i will just simply remove the negative value as it will make little or no difference\n",
    "\n",
    "# Then we can create a new df, with the condition that all weekly sales must be above or equal to 1 of 'weekly sales'\n",
    "train_ = trainall[trainall['Weekly_Sales']>= 1]\n",
    "# In this way we have essentially removed the less 0.5% of the data about 'weekly ales'\n",
    "train_.describe(include='all')"
   ]
  },
  {
   "cell_type": "code",
   "execution_count": 98,
   "metadata": {},
   "outputs": [
    {
     "data": {
      "text/plain": [
       "<matplotlib.axes._subplots.AxesSubplot at 0x216801781c8>"
      ]
     },
     "execution_count": 98,
     "metadata": {},
     "output_type": "execute_result"
    },
    {
     "data": {
      "image/png": "[encoded data removed]",
      "text/plain": [
       "<Figure size 432x288 with 1 Axes>"
      ]
     },
     "metadata": {},
     "output_type": "display_data"
    }
   ],
   "source": [
    "# We can check the PDF once again to ensure that the result is still distributed in the same way overall\n",
    "# however, there are much fewer outliers\n",
    "sns.distplot(train_['Weekly_Sales'])"
   ]
  },
  {
   "cell_type": "markdown",
   "metadata": {},
   "source": [
    "### Correlation Plot to view Relationship"
   ]
  },
  {
   "cell_type": "code",
   "execution_count": 99,
   "metadata": {},
   "outputs": [
    {
     "data": {
      "image/png": "[encoded data removed]",
      "text/plain": [
       "<Figure size 1440x1080 with 2 Axes>"
      ]
     },
     "metadata": {},
     "output_type": "display_data"
    }
   ],
   "source": [
    "sns.set(style=\"white\")\n",
    "corr = train_.corr()\n",
    "mask = np.triu(np.ones_like(corr, dtype=np.bool))\n",
    "f, ax = plt.subplots(figsize=(20, 15))\n",
    "cmap = sns.diverging_palette(220, 10, as_cmap=True)\n",
    "plt.title('Correlation Matrix for Train dataset', fontsize=18)\n",
    "sns.heatmap(corr, mask=mask, cmap=cmap, vmax=.3, center=0,\n",
    "            square=True, linewidths=.5, cbar_kws={\"shrink\": .5}, annot=True)\n",
    "plt.show()\n",
    "#white, dark, whitegrid, darkgrid, ticks"
   ]
  },
  {
   "cell_type": "code",
   "execution_count": 100,
   "metadata": {},
   "outputs": [
    {
     "data": {
      "text/plain": [
       "array(['Store', 'Dept', 'Date', 'Weekly_Sales', 'IsHoliday', 'Type',\n",
       "       'Size', 'Temperature', 'Fuel_Price', 'MarkDown1', 'MarkDown2',\n",
       "       'MarkDown3', 'MarkDown4', 'MarkDown5', 'CPI', 'Unemployment'],\n",
       "      dtype=object)"
      ]
     },
     "execution_count": 100,
     "metadata": {},
     "output_type": "execute_result"
    }
   ],
   "source": [
    "train_.columns.values"
   ]
  },
  {
   "cell_type": "code",
   "execution_count": 101,
   "metadata": {},
   "outputs": [
    {
     "data": {
      "image/png": "[encoded data removed]",
      "text/plain": [
       "<Figure size 1152x1008 with 12 Axes>"
      ]
     },
     "metadata": {},
     "output_type": "display_data"
    }
   ],
   "source": [
    "#Scatter plot of numeric columns vs weekly sales\n",
    "\n",
    "fig, axs = plt.subplots(4, 3,figsize=(16,14))\n",
    "\n",
    "axs[0, 0].scatter(train_.Weekly_Sales, train_.Size,)\n",
    "axs[0, 0].set_title('Size')\n",
    "\n",
    "axs[0, 1].scatter(train_.Weekly_Sales, train_.Temperature,)\n",
    "axs[0, 1].set_title('Temperature')\n",
    "\n",
    "axs[0, 2].scatter(train_.Weekly_Sales, train_.Fuel_Price,)\n",
    "axs[0, 2].set_title('Fuel_Price')\n",
    "\n",
    "axs[1, 0].scatter(train_.Weekly_Sales, train_.MarkDown1,)\n",
    "axs[1, 0].set_title('MarkDown1')\n",
    "\n",
    "axs[1, 1].scatter(train_.Weekly_Sales, train_.MarkDown2,)\n",
    "axs[1, 1].set_title('MarkDown2')\n",
    "\n",
    "axs[1, 2].scatter(train_.Weekly_Sales, train_.MarkDown3,)\n",
    "axs[1, 2].set_title('MarkDown3')\n",
    "\n",
    "axs[2, 0].scatter(train_.Weekly_Sales, train_.MarkDown4,)\n",
    "axs[2, 0].set_title('MarkDown4')\n",
    "\n",
    "axs[2, 1].scatter(train_.Weekly_Sales, train_.MarkDown5,)\n",
    "axs[2, 1].set_title('MarkDown5')\n",
    "\n",
    "axs[2, 2].scatter(train_.Weekly_Sales, train_.CPI,)\n",
    "axs[2, 2].set_title('CPI')\n",
    "\n",
    "axs[3, 0].scatter(train_.Weekly_Sales, train_.Unemployment,)\n",
    "axs[3, 0].set_title('Unemployment')\n",
    "\n",
    "for ax in axs.flat:\n",
    "    ax.set(xlabel='Label', ylabel='Weekly Sales')\n",
    "    \n",
    "\n",
    "# Hide x labels and tick labels for top plots and y ticks for right plots.\n",
    "for ax in axs.flat:\n",
    "    ax.label_outer()"
   ]
  },
  {
   "cell_type": "markdown",
   "metadata": {},
   "source": [
    "### Feature Engineering"
   ]
  },
  {
   "cell_type": "code",
   "execution_count": 102,
   "metadata": {},
   "outputs": [
    {
     "name": "stderr",
     "output_type": "stream",
     "text": [
      "C:\\Users\\stanl\\anaconda3\\envs\\py3-TF2.0\\lib\\site-packages\\ipykernel_launcher.py:2: SettingWithCopyWarning: \n",
      "A value is trying to be set on a copy of a slice from a DataFrame.\n",
      "Try using .loc[row_indexer,col_indexer] = value instead\n",
      "\n",
      "See the caveats in the documentation: https://pandas.pydata.org/pandas-docs/stable/user_guide/indexing.html#returning-a-view-versus-a-copy\n",
      "  \n",
      "C:\\Users\\stanl\\anaconda3\\envs\\py3-TF2.0\\lib\\site-packages\\ipykernel_launcher.py:5: SettingWithCopyWarning: \n",
      "A value is trying to be set on a copy of a slice from a DataFrame.\n",
      "Try using .loc[row_indexer,col_indexer] = value instead\n",
      "\n",
      "See the caveats in the documentation: https://pandas.pydata.org/pandas-docs/stable/user_guide/indexing.html#returning-a-view-versus-a-copy\n",
      "  \"\"\"\n",
      "C:\\Users\\stanl\\anaconda3\\envs\\py3-TF2.0\\lib\\site-packages\\ipykernel_launcher.py:6: SettingWithCopyWarning: \n",
      "A value is trying to be set on a copy of a slice from a DataFrame.\n",
      "Try using .loc[row_indexer,col_indexer] = value instead\n",
      "\n",
      "See the caveats in the documentation: https://pandas.pydata.org/pandas-docs/stable/user_guide/indexing.html#returning-a-view-versus-a-copy\n",
      "  \n"
     ]
    }
   ],
   "source": [
    "#Get week from date for both train and test data\n",
    "train_['Week'] = train_['Date'].dt.week\n",
    "testall['Week'] = testall['Date'].dt.week\n",
    "#convert Store and Department to string by adding a string value (S_, D_) to each variable \n",
    "train_['Store'] = 'S_' + train_['Store'].map(str)\n",
    "train_['Dept'] = 'D_' + train_['Dept'].map(str)\n",
    "testall['Store'] = 'S_' + testall['Store'].map(str)\n",
    "testall['Dept'] = 'D_' + testall['Dept'].map(str)"
   ]
  },
  {
   "cell_type": "code",
   "execution_count": 103,
   "metadata": {},
   "outputs": [],
   "source": [
    "# group the average departmental weekly sales value for each store\n",
    "\n",
    "#select columns week,store,dept and weekly sales\n",
    "trainallstore = train_[['Week','Store','Dept','Weekly_Sales']]\n",
    "# group store and dept by average weekly sales\n",
    "trainallstore = trainallstore.groupby(['Week','Store','Dept']).mean()\n",
    "\n",
    "#remove index\n",
    "trainallstore.reset_index(level=0, inplace=True)\n",
    "trainallstore.reset_index(level=0, inplace=True)\n",
    "trainallstore.reset_index(level=0, inplace=True)\n",
    "trainallstore.rename(columns={'Weekly_Sales': 'SD_Sales'}, inplace=True)"
   ]
  },
  {
   "cell_type": "code",
   "execution_count": 104,
   "metadata": {},
   "outputs": [],
   "source": [
    "#Now we merge the classK with the train and test data\n",
    "trainall_N = train_.merge(trainallstore, how='left')\n",
    "testall_N = testall.merge(trainallstore, how='left')"
   ]
  },
  {
   "cell_type": "code",
   "execution_count": 105,
   "metadata": {},
   "outputs": [],
   "source": [
    "# add a check point to the data by copying\n",
    "trainall = trainall_N.copy()\n",
    "testall = testall_N.copy()"
   ]
  },
  {
   "cell_type": "markdown",
   "metadata": {},
   "source": [
    "### One Hot Encoding"
   ]
  },
  {
   "cell_type": "code",
   "execution_count": 106,
   "metadata": {},
   "outputs": [],
   "source": [
    "# Finally, once we reset the index, a new column will be created containing the old index (just in case)\n",
    "# We won't be needing it, thus 'drop=True' to completely forget about it\n",
    "train_ = trainall.reset_index(drop=True)\n",
    "test_ = testall.reset_index(drop=True)"
   ]
  },
  {
   "cell_type": "code",
   "execution_count": 107,
   "metadata": {},
   "outputs": [],
   "source": [
    "# dropping irrelevant columns since we will be creating dummies\n",
    "train_some = train_.drop(columns=['Store','Dept','Date','Type','IsHoliday'])\n",
    "#creating dummies for 5 column\n",
    "dept_dummies = pd.get_dummies(train_['Dept'])\n",
    "type_dummies = pd.get_dummies(train_['Type'])\n",
    "store_dummies = pd.get_dummies(train_['Store'])\n",
    "#n_dummies = pd.get_dummies(train_['storedept'])\n",
    "holiday_dummies = pd.get_dummies(train_['IsHoliday'])\n",
    "#merging all 5 dummies to main train data\n",
    "#train_unscale = pd.concat([train_some,type_dummies,store_dummies,dept_dummies, holiday_dummies,n_dummies],axis=1)\n",
    "train_unscale = pd.concat([train_some,type_dummies,store_dummies,dept_dummies, holiday_dummies],axis=1)\n",
    "\n",
    "\n",
    "#Repeat the same for test data\n",
    "test_some = test_.drop(columns=['Type','IsHoliday'])\n",
    "dept_dummies2 = pd.get_dummies(test_['Dept'])\n",
    "type_dummies2 = pd.get_dummies(test_['Type'])\n",
    "store_dummies2 = pd.get_dummies(test_['Store'])\n",
    "#n_dummies2 = pd.get_dummies(test_['storedept'])\n",
    "holiday_dummies2 = pd.get_dummies(test_['IsHoliday'])\n",
    "\n",
    "#test_ = pd.concat([test_some,type_dummies2,n_dummies2,store_dummies2,dept_dummies2,holiday_dummies2],axis=1)\n",
    "test_ = pd.concat([test_some,type_dummies2,store_dummies2,dept_dummies2,holiday_dummies2],axis=1)\n",
    "test_unscale = test_.drop(columns=['Store','Dept','Date'])\n",
    "#fill NaN values with previous\n",
    "test_unscale.fillna(method='ffill', inplace=True)"
   ]
  },
  {
   "cell_type": "code",
   "execution_count": null,
   "metadata": {},
   "outputs": [],
   "source": []
  },
  {
   "cell_type": "markdown",
   "metadata": {},
   "source": [
    "### Quick Correlation"
   ]
  },
  {
   "cell_type": "code",
   "execution_count": 108,
   "metadata": {
    "scrolled": false
   },
   "outputs": [
    {
     "data": {
      "text/plain": [
       "B              -0.131255\n",
       "C              -0.095689\n",
       "D_28           -0.082471\n",
       "D_59           -0.081744\n",
       "D_60           -0.081550\n",
       "                  ...   \n",
       "D_38            0.247174\n",
       "D_95            0.295112\n",
       "D_92            0.324643\n",
       "SD_Sales        0.994019\n",
       "Weekly_Sales    1.000000\n",
       "Name: Weekly_Sales, Length: 144, dtype: float64"
      ]
     },
     "execution_count": 108,
     "metadata": {},
     "output_type": "execute_result"
    }
   ],
   "source": [
    "# sorted values of correlation\n",
    "train_unscale.corr()['Weekly_Sales'].sort_values()\n"
   ]
  },
  {
   "cell_type": "markdown",
   "metadata": {},
   "source": [
    "### Log Transformation"
   ]
  },
  {
   "cell_type": "code",
   "execution_count": 109,
   "metadata": {
    "scrolled": true
   },
   "outputs": [
    {
     "data": {
      "text/plain": [
       "Weekly_Sales    0\n",
       "Size            0\n",
       "Temperature     0\n",
       "Fuel_Price      0\n",
       "MarkDown1       0\n",
       "               ..\n",
       "D_98            0\n",
       "D_99            0\n",
       "False           0\n",
       "True            0\n",
       "log_price       0\n",
       "Length: 145, dtype: int64"
      ]
     },
     "execution_count": 109,
     "metadata": {},
     "output_type": "execute_result"
    }
   ],
   "source": [
    "#train_unscale = train_unscale.reset_index()\n",
    "#test_unscale = test_unscale.reset_index()\n",
    "\n",
    "# Let's transform 'weekly_sales' with a log transformation\n",
    "train_unscale['log_price'] = np.log(train_unscale['Weekly_Sales'])\n",
    "#train_unscale['log_price'] = train_unscale['Weekly_Sales']\n",
    "# Then we add it to our data frame\n",
    "train_logprice = train_unscale.drop(['Weekly_Sales'],axis=1)\n",
    "# Let's quickly see the columns of our data frame\n",
    "train_logprice.columns.values\n",
    "train_unscale.isnull().sum()"
   ]
  },
  {
   "cell_type": "markdown",
   "metadata": {},
   "source": [
    "### Declare the inputs and the targets"
   ]
  },
  {
   "cell_type": "code",
   "execution_count": 110,
   "metadata": {},
   "outputs": [],
   "source": [
    "# The target(s) (dependent variable) is 'log price'\n",
    "targets = train_logprice['log_price']\n",
    "\n",
    "# The inputs are everything BUT the dependent variable, so we can simply drop it\n",
    "inputs = train_logprice.drop(['log_price'],axis=1)"
   ]
  },
  {
   "cell_type": "markdown",
   "metadata": {},
   "source": [
    "### Scale the data"
   ]
  },
  {
   "cell_type": "code",
   "execution_count": 111,
   "metadata": {},
   "outputs": [
    {
     "data": {
      "text/plain": [
       "StandardScaler(copy=True, with_mean=True, with_std=True)"
      ]
     },
     "execution_count": 111,
     "metadata": {},
     "output_type": "execute_result"
    }
   ],
   "source": [
    "# Create a scaler object\n",
    "scaler = StandardScaler()\n",
    "# Fit the inputs (calculate the mean and standard deviation feature-wise)\n",
    "scaler.fit(inputs)\n"
   ]
  },
  {
   "cell_type": "code",
   "execution_count": 112,
   "metadata": {},
   "outputs": [],
   "source": [
    "inputs_scaled = scaler.transform(inputs)"
   ]
  },
  {
   "cell_type": "markdown",
   "metadata": {},
   "source": [
    "### Train Test Split"
   ]
  },
  {
   "cell_type": "code",
   "execution_count": 113,
   "metadata": {},
   "outputs": [],
   "source": [
    "#This is for the initial testing, once a model is selected, the xtrain will be inputs_scaled and the ytrain will be targets\n",
    "# Split the variables with an 75-25 split and some random state\n",
    "# To have the same split as mine, use random_state = 365\n",
    "x_train, x_test, y_train, y_test = train_test_split(inputs_scaled, targets, test_size=0.25, random_state=365)"
   ]
  },
  {
   "cell_type": "markdown",
   "metadata": {},
   "source": [
    "## Linear regression model"
   ]
  },
  {
   "cell_type": "markdown",
   "metadata": {},
   "source": [
    "### Create the regression"
   ]
  },
  {
   "cell_type": "code",
   "execution_count": 114,
   "metadata": {},
   "outputs": [
    {
     "data": {
      "text/plain": [
       "LinearRegression(copy_X=True, fit_intercept=True, n_jobs=None, normalize=False)"
      ]
     },
     "execution_count": 114,
     "metadata": {},
     "output_type": "execute_result"
    }
   ],
   "source": [
    "# Lets try linear regression for fun\n",
    "# Create a linear regression object\n",
    "reg = LinearRegression()\n",
    "# Fit the regression with the scaled TRAIN inputs and targets\n",
    "reg.fit(x_train,y_train)"
   ]
  },
  {
   "cell_type": "code",
   "execution_count": 115,
   "metadata": {},
   "outputs": [],
   "source": [
    "# Let's check the outputs of the regression\n",
    "# I'll store them in y_hat\n",
    "y_hat = reg.predict(x_train)"
   ]
  },
  {
   "cell_type": "code",
   "execution_count": 116,
   "metadata": {},
   "outputs": [
    {
     "data": {
      "image/png": "[encoded data removed]",
      "text/plain": [
       "<Figure size 432x288 with 1 Axes>"
      ]
     },
     "metadata": {},
     "output_type": "display_data"
    }
   ],
   "source": [
    "# The simplest way to compare the targets (y_train) and the predictions (y_hat) is to plot them on a scatter plot\n",
    "# The closer the points to the 45-degree line, the better the prediction\n",
    "plt.scatter(y_train, y_hat)\n",
    "# Let's also name the axes\n",
    "plt.xlabel('Targets (y_train)',size=18)\n",
    "plt.ylabel('Predictions (y_hat)',size=18)\n",
    "# Sometimes the plot will have different scales of the x-axis and the y-axis\n",
    "# This is an issue as we won't be able to interpret the '45-degree line'\n",
    "# We want the x-axis and the y-axis to be the same\n",
    "plt.xlim(6,13)\n",
    "plt.ylim(6,13)\n",
    "plt.show()"
   ]
  },
  {
   "cell_type": "code",
   "execution_count": 117,
   "metadata": {},
   "outputs": [
    {
     "data": {
      "text/plain": [
       "0.7229108330554441"
      ]
     },
     "execution_count": 117,
     "metadata": {},
     "output_type": "execute_result"
    }
   ],
   "source": [
    "# Find the R-squared of the model\n",
    "reg.score(x_train,y_train)\n",
    "\n",
    "# Note that this is NOT the adjusted R-squared\n"
   ]
  },
  {
   "cell_type": "markdown",
   "metadata": {},
   "source": [
    "### Finding the weights and bias"
   ]
  },
  {
   "cell_type": "code",
   "execution_count": 118,
   "metadata": {},
   "outputs": [
    {
     "data": {
      "text/plain": [
       "8.53516339462907"
      ]
     },
     "execution_count": 118,
     "metadata": {},
     "output_type": "execute_result"
    }
   ],
   "source": [
    "# Obtain the bias (intercept) of the regression\n",
    "reg.intercept_\n",
    "# We can obtain the weights (coefficients) of the regression, but there is no need as I are not going to use thi model\n",
    "# to check coefficient use reg.coef_"
   ]
  },
  {
   "cell_type": "markdown",
   "metadata": {},
   "source": [
    "## Testing Regression"
   ]
  },
  {
   "cell_type": "code",
   "execution_count": 119,
   "metadata": {},
   "outputs": [],
   "source": [
    "y_hat_test = reg.predict(x_test)"
   ]
  },
  {
   "cell_type": "code",
   "execution_count": 120,
   "metadata": {},
   "outputs": [
    {
     "data": {
      "image/png": "[encoded data removed]",
      "text/plain": [
       "<Figure size 432x288 with 1 Axes>"
      ]
     },
     "metadata": {},
     "output_type": "display_data"
    }
   ],
   "source": [
    "# To Create a scatter plot with the test targets and the test predictions\n",
    "plt.scatter(y_test, y_hat_test, alpha=0.2)\n",
    "plt.xlabel('Targets (y_test)',size=18)\n",
    "plt.ylabel('Predictions (y_hat_test)',size=18)\n",
    "plt.xlim(6,13)\n",
    "plt.ylim(6,13)\n",
    "plt.show()"
   ]
  },
  {
   "cell_type": "code",
   "execution_count": 121,
   "metadata": {},
   "outputs": [
    {
     "data": {
      "text/html": [
       "<div>\n",
       "<style scoped>\n",
       "    .dataframe tbody tr th:only-of-type {\n",
       "        vertical-align: middle;\n",
       "    }\n",
       "\n",
       "    .dataframe tbody tr th {\n",
       "        vertical-align: top;\n",
       "    }\n",
       "\n",
       "    .dataframe thead th {\n",
       "        text-align: right;\n",
       "    }\n",
       "</style>\n",
       "<table border=\"1\" class=\"dataframe\">\n",
       "  <thead>\n",
       "    <tr style=\"text-align: right;\">\n",
       "      <th></th>\n",
       "      <th>Prediction</th>\n",
       "    </tr>\n",
       "  </thead>\n",
       "  <tbody>\n",
       "    <tr>\n",
       "      <th>0</th>\n",
       "      <td>26446.218858</td>\n",
       "    </tr>\n",
       "    <tr>\n",
       "      <th>1</th>\n",
       "      <td>3899.813079</td>\n",
       "    </tr>\n",
       "    <tr>\n",
       "      <th>2</th>\n",
       "      <td>63487.663767</td>\n",
       "    </tr>\n",
       "    <tr>\n",
       "      <th>3</th>\n",
       "      <td>477.219186</td>\n",
       "    </tr>\n",
       "    <tr>\n",
       "      <th>4</th>\n",
       "      <td>12046.778452</td>\n",
       "    </tr>\n",
       "  </tbody>\n",
       "</table>\n",
       "</div>"
      ],
      "text/plain": [
       "     Prediction\n",
       "0  26446.218858\n",
       "1   3899.813079\n",
       "2  63487.663767\n",
       "3    477.219186\n",
       "4  12046.778452"
      ]
     },
     "execution_count": 121,
     "metadata": {},
     "output_type": "execute_result"
    }
   ],
   "source": [
    "# Finally, let's manually check these predictions\n",
    "# To obtain the actual prices, we take the exponential of the log_price\n",
    "df_pf = pd.DataFrame(np.exp(y_hat_test), columns=['Prediction'])\n",
    "df_pf.head()"
   ]
  },
  {
   "cell_type": "code",
   "execution_count": 122,
   "metadata": {
    "scrolled": true
   },
   "outputs": [
    {
     "data": {
      "text/html": [
       "<div>\n",
       "<style scoped>\n",
       "    .dataframe tbody tr th:only-of-type {\n",
       "        vertical-align: middle;\n",
       "    }\n",
       "\n",
       "    .dataframe tbody tr th {\n",
       "        vertical-align: top;\n",
       "    }\n",
       "\n",
       "    .dataframe thead th {\n",
       "        text-align: right;\n",
       "    }\n",
       "</style>\n",
       "<table border=\"1\" class=\"dataframe\">\n",
       "  <thead>\n",
       "    <tr style=\"text-align: right;\">\n",
       "      <th></th>\n",
       "      <th>Prediction</th>\n",
       "      <th>Target</th>\n",
       "    </tr>\n",
       "  </thead>\n",
       "  <tbody>\n",
       "    <tr>\n",
       "      <th>0</th>\n",
       "      <td>26446.218858</td>\n",
       "      <td>42530.63</td>\n",
       "    </tr>\n",
       "    <tr>\n",
       "      <th>1</th>\n",
       "      <td>3899.813079</td>\n",
       "      <td>4198.56</td>\n",
       "    </tr>\n",
       "    <tr>\n",
       "      <th>2</th>\n",
       "      <td>63487.663767</td>\n",
       "      <td>56084.02</td>\n",
       "    </tr>\n",
       "    <tr>\n",
       "      <th>3</th>\n",
       "      <td>477.219186</td>\n",
       "      <td>73.48</td>\n",
       "    </tr>\n",
       "    <tr>\n",
       "      <th>4</th>\n",
       "      <td>12046.778452</td>\n",
       "      <td>12137.27</td>\n",
       "    </tr>\n",
       "    <tr>\n",
       "      <th>...</th>\n",
       "      <td>...</td>\n",
       "      <td>...</td>\n",
       "    </tr>\n",
       "    <tr>\n",
       "      <th>104886</th>\n",
       "      <td>18560.733599</td>\n",
       "      <td>29627.06</td>\n",
       "    </tr>\n",
       "    <tr>\n",
       "      <th>104887</th>\n",
       "      <td>1167.083294</td>\n",
       "      <td>56.00</td>\n",
       "    </tr>\n",
       "    <tr>\n",
       "      <th>104888</th>\n",
       "      <td>3743.552657</td>\n",
       "      <td>7185.32</td>\n",
       "    </tr>\n",
       "    <tr>\n",
       "      <th>104889</th>\n",
       "      <td>53247.044214</td>\n",
       "      <td>40054.65</td>\n",
       "    </tr>\n",
       "    <tr>\n",
       "      <th>104890</th>\n",
       "      <td>16367.797386</td>\n",
       "      <td>15162.75</td>\n",
       "    </tr>\n",
       "  </tbody>\n",
       "</table>\n",
       "<p>104891 rows × 2 columns</p>\n",
       "</div>"
      ],
      "text/plain": [
       "          Prediction    Target\n",
       "0       26446.218858  42530.63\n",
       "1        3899.813079   4198.56\n",
       "2       63487.663767  56084.02\n",
       "3         477.219186     73.48\n",
       "4       12046.778452  12137.27\n",
       "...              ...       ...\n",
       "104886  18560.733599  29627.06\n",
       "104887   1167.083294     56.00\n",
       "104888   3743.552657   7185.32\n",
       "104889  53247.044214  40054.65\n",
       "104890  16367.797386  15162.75\n",
       "\n",
       "[104891 rows x 2 columns]"
      ]
     },
     "execution_count": 122,
     "metadata": {},
     "output_type": "execute_result"
    }
   ],
   "source": [
    "# After displaying y_test, we find what the issue is\n",
    "# The old indexes are preserved (recall earlier in that code we made a note on that)\n",
    "# The code was: data_cleaned = data_4.reset_index(drop=True)\n",
    "\n",
    "# Therefore, to get a proper result, we must reset the index and drop the old indexing\n",
    "y_test = y_test.reset_index(drop=True)\n",
    "\n",
    "# Let's overwrite the 'Target' column with the appropriate values\n",
    "# Again, we need the exponential of the test log price\n",
    "df_pf['Target'] = np.exp(y_test)\n",
    "df_pf\n",
    "# Find the R-squared of the model\n"
   ]
  },
  {
   "cell_type": "markdown",
   "metadata": {},
   "source": [
    "# New Work on Grid serach for Random Forest"
   ]
  },
  {
   "cell_type": "code",
   "execution_count": 123,
   "metadata": {},
   "outputs": [
    {
     "data": {
      "text/plain": [
       "\"'#This will take too long, so dont run\\n# Create the parameter grid based on the results of random search \\nparam_grid = {\\n    'bootstrap': [True],\\n    'min_samples_leaf': [1, 2],\\n    'min_samples_split': [2, 4],\\n    'n_estimators': [50,80, 150]\\n}\\n# Create a based model\\nrf = RandomForestRegressor()\\n# Instantiate the grid search model\\ngrid_search = GridSearchCV(estimator = rf, param_grid = param_grid, \\n                          cv = 3, n_jobs = -1, verbose = 2)\\n\\ngrid_search.fit(x_train, y_train)\\ngrid_search.best_params_\\n\""
      ]
     },
     "execution_count": 123,
     "metadata": {},
     "output_type": "execute_result"
    }
   ],
   "source": [
    "''''#This will take too long, so dont run\n",
    "# Create the parameter grid based on the results of random search \n",
    "param_grid = {\n",
    "    'bootstrap': [True],\n",
    "    'min_samples_leaf': [1, 2],\n",
    "    'min_samples_split': [2, 4],\n",
    "    'n_estimators': [50,80, 150]\n",
    "}\n",
    "# Create a based model\n",
    "rf = RandomForestRegressor()\n",
    "# Instantiate the grid search model\n",
    "grid_search = GridSearchCV(estimator = rf, param_grid = param_grid, \n",
    "                          cv = 3, n_jobs = -1, verbose = 2)\n",
    "\n",
    "grid_search.fit(x_train, y_train)\n",
    "grid_search.best_params_\n",
    "'''"
   ]
  },
  {
   "cell_type": "markdown",
   "metadata": {},
   "source": [
    "# Random Forest"
   ]
  },
  {
   "cell_type": "code",
   "execution_count": 124,
   "metadata": {},
   "outputs": [
    {
     "name": "stderr",
     "output_type": "stream",
     "text": [
      "[Parallel(n_jobs=1)]: Using backend SequentialBackend with 1 concurrent workers.\n"
     ]
    },
    {
     "name": "stdout",
     "output_type": "stream",
     "text": [
      "building tree 1 of 20\n"
     ]
    },
    {
     "name": "stderr",
     "output_type": "stream",
     "text": [
      "[Parallel(n_jobs=1)]: Done   1 out of   1 | elapsed:    7.6s remaining:    0.0s\n"
     ]
    },
    {
     "name": "stdout",
     "output_type": "stream",
     "text": [
      "building tree 2 of 20\n",
      "building tree 3 of 20\n",
      "building tree 4 of 20\n",
      "building tree 5 of 20\n",
      "building tree 6 of 20\n",
      "building tree 7 of 20\n",
      "building tree 8 of 20\n",
      "building tree 9 of 20\n",
      "building tree 10 of 20\n",
      "building tree 11 of 20\n",
      "building tree 12 of 20\n",
      "building tree 13 of 20\n",
      "building tree 14 of 20\n",
      "building tree 15 of 20\n",
      "building tree 16 of 20\n",
      "building tree 17 of 20\n",
      "building tree 18 of 20\n",
      "building tree 19 of 20\n",
      "building tree 20 of 20\n"
     ]
    },
    {
     "name": "stderr",
     "output_type": "stream",
     "text": [
      "[Parallel(n_jobs=1)]: Done  20 out of  20 | elapsed:  2.6min finished\n"
     ]
    },
    {
     "data": {
      "text/plain": [
       "RandomForestRegressor(bootstrap=True, ccp_alpha=0.0, criterion='mse',\n",
       "                      max_depth=None, max_features='auto', max_leaf_nodes=None,\n",
       "                      max_samples=None, min_impurity_decrease=0.0,\n",
       "                      min_impurity_split=None, min_samples_leaf=1,\n",
       "                      min_samples_split=2, min_weight_fraction_leaf=0.0,\n",
       "                      n_estimators=20, n_jobs=1, oob_score=False,\n",
       "                      random_state=None, verbose=2, warm_start=False)"
      ]
     },
     "execution_count": 124,
     "metadata": {},
     "output_type": "execute_result"
    }
   ],
   "source": [
    "#Random forest model specification\n",
    "\n",
    "regr = RandomForestRegressor(n_estimators=20, criterion='mse', max_depth=None, \n",
    "                      min_samples_split=2, min_samples_leaf=1, \n",
    "                      min_weight_fraction_leaf=0.0, max_features='auto', \n",
    "                      max_leaf_nodes=None, min_impurity_decrease=0.0, \n",
    "                      min_impurity_split=None, bootstrap=True, \n",
    "                      oob_score=False, n_jobs=1, random_state=None, \n",
    "                      verbose=2, warm_start=False)\n",
    "\n",
    "#Train on data\n",
    "regr.fit(x_train, y_train.ravel())"
   ]
  },
  {
   "cell_type": "code",
   "execution_count": 125,
   "metadata": {},
   "outputs": [
    {
     "name": "stderr",
     "output_type": "stream",
     "text": [
      "[Parallel(n_jobs=1)]: Using backend SequentialBackend with 1 concurrent workers.\n",
      "[Parallel(n_jobs=1)]: Done   1 out of   1 | elapsed:    0.1s remaining:    0.0s\n",
      "[Parallel(n_jobs=1)]: Done  20 out of  20 | elapsed:    2.6s finished\n"
     ]
    }
   ],
   "source": [
    "##Model evaluation\n",
    "##To evaluate the model, we will look at MAE and accuracy in terms of the number of times it\n",
    "##correctly estimated an upward or downward deviation from the median.\n",
    "y_pred = regr.predict(x_train)\n",
    "trainzz = y_train.to_frame()\n",
    "trainzz['Predicted'] = y_pred\n"
   ]
  },
  {
   "cell_type": "code",
   "execution_count": 126,
   "metadata": {},
   "outputs": [
    {
     "data": {
      "image/png": "[encoded data removed]",
      "text/plain": [
       "<Figure size 432x288 with 1 Axes>"
      ]
     },
     "metadata": {},
     "output_type": "display_data"
    }
   ],
   "source": [
    "#quick plot of targets and prediction\n",
    "plt.scatter(trainzz.log_price, trainzz.Predicted)\n",
    "# Let's also name the axes\n",
    "plt.xlabel('Targets (y_test)',size=18)\n",
    "plt.ylabel('Predictions (y_pred)',size=18)\n",
    "# We want the x-axis and the y-axis to be the same\n",
    "plt.xlim(6,13)\n",
    "plt.ylim(6,13)\n",
    "plt.show()"
   ]
  },
  {
   "cell_type": "code",
   "execution_count": 127,
   "metadata": {},
   "outputs": [
    {
     "name": "stderr",
     "output_type": "stream",
     "text": [
      "[Parallel(n_jobs=1)]: Using backend SequentialBackend with 1 concurrent workers.\n",
      "[Parallel(n_jobs=1)]: Done   1 out of   1 | elapsed:    0.0s remaining:    0.0s\n",
      "[Parallel(n_jobs=1)]: Done  20 out of  20 | elapsed:    0.8s finished\n"
     ]
    },
    {
     "data": {
      "image/png": "[encoded data removed]",
      "text/plain": [
       "<Figure size 432x288 with 1 Axes>"
      ]
     },
     "metadata": {},
     "output_type": "display_data"
    }
   ],
   "source": [
    "y_predt = regr.predict(x_test)\n",
    "testzz = y_test.to_frame()\n",
    "testzz['Predicted'] = y_predt\n",
    "plt.scatter(testzz.log_price, testzz.Predicted)\n",
    "# Let's also name the axes\n",
    "plt.xlabel('Targets (y_test)',size=18)\n",
    "plt.ylabel('Predictions (y_pred)',size=18)\n",
    "# Sometimes the plot will have different scales of the x-axis and the y-axis\n",
    "# This is an issue as we won't be able to interpret the '45-degree line'\n",
    "# We want the x-axis and the y-axis to be the same\n",
    "plt.xlim(6,13)\n",
    "plt.ylim(6,13)\n",
    "plt.show()"
   ]
  },
  {
   "cell_type": "code",
   "execution_count": 128,
   "metadata": {},
   "outputs": [
    {
     "name": "stdout",
     "output_type": "stream",
     "text": [
      "The train score r2=  0.9964571507002057 and mae = 0.014298431332910115\n",
      "The test score r2 =  0.9781519983680331 and mae =  0.0887026257276137\n"
     ]
    }
   ],
   "source": [
    "trainr2 = r2_score(y_train , y_pred)\n",
    "trainmae = mean_squared_error(y_train , y_pred)\n",
    "testmae = mean_squared_error(y_test , y_predt)\n",
    "testr2 = r2_score(y_test, y_predt)\n",
    "print('The train score r2= ',trainr2, 'and mae =', trainmae)\n",
    "print('The test score r2 = ',testr2,'and mae = ', testmae)"
   ]
  },
  {
   "cell_type": "markdown",
   "metadata": {},
   "source": [
    "## Xgboost Parameter Grid search"
   ]
  },
  {
   "cell_type": "code",
   "execution_count": 129,
   "metadata": {},
   "outputs": [
    {
     "data": {
      "text/plain": [
       "\"\\nxgb_reg = xgb.XGBRegressor(n_estimators=50)\\n\\n# Parameters to Grid search\\ntuned_parameters = [{'learning_rate':[0.1],'max_depth':[3,4,5,10]}]\\n\\n# Grid search\\n\\nxgb_gs = GridSearchCV(estimator=xgb_reg, param_grid=tuned_parameters, scoring= 'r2', cv=5, n_jobs=10)\\nxgb_gs.fit(x_train,y_train)\\nprint('The best parameters for XGBoost Regression is: ',xgb_gs.best_params_)\\n\""
      ]
     },
     "execution_count": 129,
     "metadata": {},
     "output_type": "execute_result"
    }
   ],
   "source": [
    "'''\n",
    "xgb_reg = xgb.XGBRegressor(n_estimators=50)\n",
    "\n",
    "# Parameters to Grid search\n",
    "tuned_parameters = [{'learning_rate':[0.1],'max_depth':[3,4,5,10]}]\n",
    "\n",
    "# Grid search\n",
    "\n",
    "xgb_gs = GridSearchCV(estimator=xgb_reg, param_grid=tuned_parameters, scoring= 'r2', cv=5, n_jobs=10)\n",
    "xgb_gs.fit(x_train,y_train)\n",
    "print('The best parameters for XGBoost Regression is: ',xgb_gs.best_params_)\n",
    "'''"
   ]
  },
  {
   "cell_type": "markdown",
   "metadata": {},
   "source": [
    "## Train xgboost with best parameter"
   ]
  },
  {
   "cell_type": "code",
   "execution_count": 130,
   "metadata": {},
   "outputs": [
    {
     "name": "stdout",
     "output_type": "stream",
     "text": [
      "Training score:  0.9924464326927424\n"
     ]
    }
   ],
   "source": [
    "\n",
    "xgbr = xgb.XGBRegressor(base_score=None, booster=None, colsample_bylevel=None,\n",
    "             colsample_bynode=None, colsample_bytree=None, gamma=None,\n",
    "             gpu_id=None, importance_type='gain', interaction_constraints=None,\n",
    "             learning_rate=0.1, max_delta_step=None, max_depth=10,\n",
    "             min_child_weight=None, monotone_constraints=None,\n",
    "             n_estimators=200, n_jobs=None, num_parallel_tree=None,\n",
    "             objective='reg:squarederror', random_state=None, reg_alpha=None,\n",
    "             reg_lambda=None, scale_pos_weight=None, subsample=None,\n",
    "             tree_method=None, validate_parameters=None, verbosity=0)\n",
    "\n",
    "xgbr.fit(x_train, y_train)\n",
    "\n",
    "score = xgbr.score(x_train, y_train)   \n",
    "print(\"Training score: \", score) "
   ]
  },
  {
   "cell_type": "code",
   "execution_count": 131,
   "metadata": {},
   "outputs": [
    {
     "name": "stdout",
     "output_type": "stream",
     "text": [
      "The train score r2 =  0.9924464326927424 and mae =  0.03048511362524209\n",
      "The test score r2 =  0.9838517601359706  and mae =  0.0655616610135608\n"
     ]
    },
    {
     "data": {
      "image/png": "[encoded data removed]",
      "text/plain": [
       "<Figure size 432x288 with 1 Axes>"
      ]
     },
     "metadata": {},
     "output_type": "display_data"
    }
   ],
   "source": [
    "y_predxgb = xgbr.predict(x_train)\n",
    "y_predxgbt = xgbr.predict(x_test)\n",
    "\n",
    "xtrainr2 = r2_score(y_train , y_predxgb)\n",
    "xtrainmae = mean_squared_error(y_train , y_predxgb)\n",
    "xtestmae = mean_squared_error(y_test , y_predxgbt)\n",
    "xtestr2 = r2_score(y_test, y_predxgbt)\n",
    "print('The train score r2 = ',xtrainr2,'and mae = ', xtrainmae)\n",
    "print('The test score r2 = ',xtestr2, ' and mae = ',xtestmae)\n",
    "\n",
    "x_ax = range(len(y_test))\n",
    "plt.scatter(x_ax, y_test, s=5, color=\"blue\", label=\"original\")\n",
    "plt.plot(x_ax, y_predxgbt, lw=0.8, color=\"red\", label=\"predicted\")\n",
    "plt.legend()\n",
    "plt.show()\n"
   ]
  },
  {
   "cell_type": "code",
   "execution_count": 132,
   "metadata": {},
   "outputs": [
    {
     "data": {
      "image/png": "[encoded data removed]",
      "text/plain": [
       "<Figure size 1152x1152 with 4 Axes>"
      ]
     },
     "metadata": {},
     "output_type": "display_data"
    }
   ],
   "source": [
    "trainzz['Predictedxgb'] = y_predxgb\n",
    "testzz['Predictedxgb'] = y_predxgbt\n",
    "\n",
    "fig, axs = plt.subplots(2, 2,figsize=(16,16))\n",
    "\n",
    "axs[0, 0].scatter(trainzz.log_price, trainzz.Predicted,)\n",
    "axs[0, 0].set_title('RF train')\n",
    "\n",
    "axs[0, 1].scatter(testzz.log_price, testzz.Predicted,)\n",
    "axs[0, 1].set_title('RF test')\n",
    "\n",
    "axs[1, 0].scatter(trainzz.log_price, trainzz.Predictedxgb,)\n",
    "axs[1, 0].set_title('XGB train')\n",
    "\n",
    "axs[1, 1].scatter(testzz.log_price, testzz.Predictedxgb,)\n",
    "axs[1, 1].set_title('XGB test')\n",
    "\n",
    "\n",
    "for ax in axs.flat:\n",
    "    ax.set(xlabel='Predicted', ylabel='Real')\n",
    "    \n",
    "\n",
    "# Hide x labels and tick labels for top plots and y ticks for right plots.\n",
    "for ax in axs.flat:\n",
    "    ax.label_outer()"
   ]
  },
  {
   "cell_type": "code",
   "execution_count": 133,
   "metadata": {},
   "outputs": [],
   "source": [
    "## Train data using xgboost for all train dataset provided by walmart"
   ]
  },
  {
   "cell_type": "code",
   "execution_count": 134,
   "metadata": {},
   "outputs": [
    {
     "name": "stdout",
     "output_type": "stream",
     "text": [
      "Training score:  0.992013597789589\n"
     ]
    }
   ],
   "source": [
    "\n",
    "xgbfinal = xgb.XGBRegressor(base_score=None, booster=None, colsample_bylevel=None,\n",
    "             colsample_bynode=None, colsample_bytree=None, gamma=None,\n",
    "             gpu_id=None, importance_type='gain', interaction_constraints=None,\n",
    "             learning_rate=0.1, max_delta_step=None, max_depth=10,\n",
    "             min_child_weight=None, monotone_constraints=None,\n",
    "             n_estimators=200, n_jobs=None, num_parallel_tree=None,\n",
    "             objective='reg:squarederror', random_state=None, reg_alpha=None,\n",
    "             reg_lambda=None, scale_pos_weight=None, subsample=None,\n",
    "             tree_method=None, validate_parameters=None, verbosity=0)\n",
    "xgbfinal.fit(inputs_scaled, targets)\n",
    "\n",
    "score = xgbfinal.score(inputs_scaled, targets)  \n",
    "print(\"Training score: \", score) "
   ]
  },
  {
   "cell_type": "code",
   "execution_count": 135,
   "metadata": {},
   "outputs": [
    {
     "name": "stderr",
     "output_type": "stream",
     "text": [
      "[Parallel(n_jobs=-1)]: Using backend ThreadingBackend with 12 concurrent workers.\n"
     ]
    },
    {
     "name": "stdout",
     "output_type": "stream",
     "text": [
      "building tree 1 of 20\n",
      "building tree 2 of 20\n",
      "building tree 3 of 20\n",
      "building tree 4 of 20\n",
      "building tree 5 of 20\n",
      "building tree 6 of 20building tree 7 of 20\n",
      "building tree 8 of 20\n",
      "building tree 9 of 20\n",
      "\n",
      "building tree 10 of 20\n",
      "building tree 11 of 20\n",
      "building tree 12 of 20\n",
      "building tree 13 of 20\n",
      "building tree 14 of 20\n",
      "building tree 15 of 20\n",
      "building tree 16 of 20\n",
      "building tree 17 of 20\n",
      "building tree 18 of 20\n",
      "building tree 19 of 20\n",
      "building tree 20 of 20\n"
     ]
    },
    {
     "name": "stderr",
     "output_type": "stream",
     "text": [
      "[Parallel(n_jobs=-1)]: Done   8 out of  20 | elapsed:   20.7s remaining:   31.1s\n",
      "[Parallel(n_jobs=-1)]: Done  20 out of  20 | elapsed:   37.0s finished\n"
     ]
    },
    {
     "data": {
      "text/plain": [
       "RandomForestRegressor(bootstrap=True, ccp_alpha=0.0, criterion='mse',\n",
       "                      max_depth=None, max_features='auto', max_leaf_nodes=None,\n",
       "                      max_samples=None, min_impurity_decrease=0.0,\n",
       "                      min_impurity_split=None, min_samples_leaf=1,\n",
       "                      min_samples_split=2, min_weight_fraction_leaf=0.0,\n",
       "                      n_estimators=20, n_jobs=-1, oob_score=False,\n",
       "                      random_state=None, verbose=2, warm_start=False)"
      ]
     },
     "execution_count": 135,
     "metadata": {},
     "output_type": "execute_result"
    }
   ],
   "source": [
    "RF = RandomForestRegressor(bootstrap=True, ccp_alpha=0.0, criterion='mse',\n",
    "                      max_depth=None, max_features='auto', max_leaf_nodes=None,\n",
    "                      max_samples=None, min_impurity_decrease=0.0,\n",
    "                      min_impurity_split=None, min_samples_leaf=1,\n",
    "                      min_samples_split=2, min_weight_fraction_leaf=0.0,\n",
    "                      n_estimators=20, n_jobs=-1, oob_score=False,\n",
    "                      random_state=None, verbose=2, warm_start=False)\n",
    "RF.fit(inputs_scaled, targets)"
   ]
  },
  {
   "cell_type": "code",
   "execution_count": 136,
   "metadata": {},
   "outputs": [
    {
     "data": {
      "text/plain": [
       "StandardScaler(copy=True, with_mean=True, with_std=True)"
      ]
     },
     "execution_count": 136,
     "metadata": {},
     "output_type": "execute_result"
    }
   ],
   "source": [
    "#process test data by scaling it using the same scaler defined earlier\n",
    "scaler = StandardScaler()\n",
    "scaler.fit(test_unscale)\n",
    "\n",
    "# The target(s) (dependent variable) is 'log price'"
   ]
  },
  {
   "cell_type": "code",
   "execution_count": 137,
   "metadata": {},
   "outputs": [],
   "source": [
    "test_scaled = scaler.transform(test_unscale)"
   ]
  },
  {
   "cell_type": "code",
   "execution_count": 138,
   "metadata": {},
   "outputs": [
    {
     "name": "stderr",
     "output_type": "stream",
     "text": [
      "[Parallel(n_jobs=12)]: Using backend ThreadingBackend with 12 concurrent workers.\n",
      "[Parallel(n_jobs=12)]: Done   8 out of  20 | elapsed:    0.0s remaining:    0.0s\n",
      "[Parallel(n_jobs=12)]: Done  20 out of  20 | elapsed:    0.0s finished\n"
     ]
    }
   ],
   "source": [
    "#At final, we can predict the test!\n",
    "y_pred = xgbfinal.predict(test_scaled)\n",
    "\n",
    "y_pred2 = RF.predict(test_scaled)"
   ]
  },
  {
   "cell_type": "code",
   "execution_count": 139,
   "metadata": {},
   "outputs": [],
   "source": [
    "reg.fit(inputs_scaled, targets)\n",
    "y_pred3 = reg.predict(test_scaled)"
   ]
  },
  {
   "cell_type": "code",
   "execution_count": 140,
   "metadata": {},
   "outputs": [
    {
     "name": "stderr",
     "output_type": "stream",
     "text": [
      "C:\\Users\\stanl\\anaconda3\\envs\\py3-TF2.0\\lib\\site-packages\\ipykernel_launcher.py:3: SettingWithCopyWarning: \n",
      "A value is trying to be set on a copy of a slice from a DataFrame.\n",
      "Try using .loc[row_indexer,col_indexer] = value instead\n",
      "\n",
      "See the caveats in the documentation: https://pandas.pydata.org/pandas-docs/stable/user_guide/indexing.html#returning-a-view-versus-a-copy\n",
      "  This is separate from the ipykernel package so we can avoid doing imports until\n",
      "C:\\Users\\stanl\\anaconda3\\envs\\py3-TF2.0\\lib\\site-packages\\pandas\\core\\frame.py:3997: SettingWithCopyWarning: \n",
      "A value is trying to be set on a copy of a slice from a DataFrame\n",
      "\n",
      "See the caveats in the documentation: https://pandas.pydata.org/pandas-docs/stable/user_guide/indexing.html#returning-a-view-versus-a-copy\n",
      "  errors=errors,\n",
      "C:\\Users\\stanl\\anaconda3\\envs\\py3-TF2.0\\lib\\site-packages\\ipykernel_launcher.py:8: SettingWithCopyWarning: \n",
      "A value is trying to be set on a copy of a slice from a DataFrame.\n",
      "Try using .loc[row_indexer,col_indexer] = value instead\n",
      "\n",
      "See the caveats in the documentation: https://pandas.pydata.org/pandas-docs/stable/user_guide/indexing.html#returning-a-view-versus-a-copy\n",
      "  \n"
     ]
    }
   ],
   "source": [
    "\n",
    "# Menaging final_df to have competition rules standard\n",
    "testdataframe = test_[['Store','Dept','Date']]\n",
    "testdataframe['Id'] = testdataframe['Store'].astype(str) + '_' + testdataframe['Dept'].astype(str) + '_' + testdataframe['Date'].astype(str)\n",
    "testdataframe.drop(columns=['Store','Dept','Date'],inplace=True)\n",
    "\n",
    "# Therefore, to get a proper result, we must reset the index and drop the old indexing\n",
    "testdataframe['Id'].reset_index(drop=True)\n",
    "testdataframe['Weekly_Sales'] = np.exp(y_pred)\n",
    "\n",
    "\n"
   ]
  },
  {
   "cell_type": "code",
   "execution_count": 141,
   "metadata": {},
   "outputs": [
    {
     "name": "stderr",
     "output_type": "stream",
     "text": [
      "C:\\Users\\stanl\\anaconda3\\envs\\py3-TF2.0\\lib\\site-packages\\ipykernel_launcher.py:1: SettingWithCopyWarning: \n",
      "A value is trying to be set on a copy of a slice from a DataFrame.\n",
      "Try using .loc[row_indexer,col_indexer] = value instead\n",
      "\n",
      "See the caveats in the documentation: https://pandas.pydata.org/pandas-docs/stable/user_guide/indexing.html#returning-a-view-versus-a-copy\n",
      "  \"\"\"Entry point for launching an IPython kernel.\n",
      "C:\\Users\\stanl\\anaconda3\\envs\\py3-TF2.0\\lib\\site-packages\\ipykernel_launcher.py:2: SettingWithCopyWarning: \n",
      "A value is trying to be set on a copy of a slice from a DataFrame.\n",
      "Try using .loc[row_indexer,col_indexer] = value instead\n",
      "\n",
      "See the caveats in the documentation: https://pandas.pydata.org/pandas-docs/stable/user_guide/indexing.html#returning-a-view-versus-a-copy\n",
      "  \n"
     ]
    },
    {
     "data": {
      "text/html": [
       "<div>\n",
       "<style scoped>\n",
       "    .dataframe tbody tr th:only-of-type {\n",
       "        vertical-align: middle;\n",
       "    }\n",
       "\n",
       "    .dataframe tbody tr th {\n",
       "        vertical-align: top;\n",
       "    }\n",
       "\n",
       "    .dataframe thead th {\n",
       "        text-align: right;\n",
       "    }\n",
       "</style>\n",
       "<table border=\"1\" class=\"dataframe\">\n",
       "  <thead>\n",
       "    <tr style=\"text-align: right;\">\n",
       "      <th></th>\n",
       "      <th>Id</th>\n",
       "      <th>Weekly_Sales</th>\n",
       "    </tr>\n",
       "  </thead>\n",
       "  <tbody>\n",
       "    <tr>\n",
       "      <th>0</th>\n",
       "      <td>1_1_2012-11-02</td>\n",
       "      <td>34691.015625</td>\n",
       "    </tr>\n",
       "    <tr>\n",
       "      <th>1</th>\n",
       "      <td>1_1_2012-11-09</td>\n",
       "      <td>18761.253906</td>\n",
       "    </tr>\n",
       "    <tr>\n",
       "      <th>2</th>\n",
       "      <td>1_1_2012-11-16</td>\n",
       "      <td>18372.673828</td>\n",
       "    </tr>\n",
       "    <tr>\n",
       "      <th>3</th>\n",
       "      <td>1_1_2012-11-23</td>\n",
       "      <td>19063.353516</td>\n",
       "    </tr>\n",
       "    <tr>\n",
       "      <th>4</th>\n",
       "      <td>1_1_2012-11-30</td>\n",
       "      <td>22958.572266</td>\n",
       "    </tr>\n",
       "    <tr>\n",
       "      <th>5</th>\n",
       "      <td>1_1_2012-12-07</td>\n",
       "      <td>31817.208984</td>\n",
       "    </tr>\n",
       "    <tr>\n",
       "      <th>6</th>\n",
       "      <td>1_1_2012-12-14</td>\n",
       "      <td>42726.507812</td>\n",
       "    </tr>\n",
       "    <tr>\n",
       "      <th>7</th>\n",
       "      <td>1_1_2012-12-21</td>\n",
       "      <td>45559.316406</td>\n",
       "    </tr>\n",
       "    <tr>\n",
       "      <th>8</th>\n",
       "      <td>1_1_2012-12-28</td>\n",
       "      <td>20489.125000</td>\n",
       "    </tr>\n",
       "    <tr>\n",
       "      <th>9</th>\n",
       "      <td>1_1_2013-01-04</td>\n",
       "      <td>16306.948242</td>\n",
       "    </tr>\n",
       "    <tr>\n",
       "      <th>10</th>\n",
       "      <td>1_1_2013-01-11</td>\n",
       "      <td>17070.736328</td>\n",
       "    </tr>\n",
       "    <tr>\n",
       "      <th>11</th>\n",
       "      <td>1_1_2013-01-18</td>\n",
       "      <td>17228.367188</td>\n",
       "    </tr>\n",
       "    <tr>\n",
       "      <th>12</th>\n",
       "      <td>1_1_2013-01-25</td>\n",
       "      <td>17783.324219</td>\n",
       "    </tr>\n",
       "    <tr>\n",
       "      <th>13</th>\n",
       "      <td>1_1_2013-02-01</td>\n",
       "      <td>23062.919922</td>\n",
       "    </tr>\n",
       "    <tr>\n",
       "      <th>14</th>\n",
       "      <td>1_1_2013-02-08</td>\n",
       "      <td>36878.664062</td>\n",
       "    </tr>\n",
       "    <tr>\n",
       "      <th>15</th>\n",
       "      <td>1_1_2013-02-15</td>\n",
       "      <td>44477.121094</td>\n",
       "    </tr>\n",
       "    <tr>\n",
       "      <th>16</th>\n",
       "      <td>1_1_2013-02-22</td>\n",
       "      <td>19293.566406</td>\n",
       "    </tr>\n",
       "    <tr>\n",
       "      <th>17</th>\n",
       "      <td>1_1_2013-03-01</td>\n",
       "      <td>16582.220703</td>\n",
       "    </tr>\n",
       "    <tr>\n",
       "      <th>18</th>\n",
       "      <td>1_1_2013-03-08</td>\n",
       "      <td>17620.650391</td>\n",
       "    </tr>\n",
       "    <tr>\n",
       "      <th>19</th>\n",
       "      <td>1_1_2013-03-15</td>\n",
       "      <td>20239.644531</td>\n",
       "    </tr>\n",
       "    <tr>\n",
       "      <th>20</th>\n",
       "      <td>1_1_2013-03-22</td>\n",
       "      <td>19913.453125</td>\n",
       "    </tr>\n",
       "    <tr>\n",
       "      <th>21</th>\n",
       "      <td>1_1_2013-03-29</td>\n",
       "      <td>27033.962891</td>\n",
       "    </tr>\n",
       "    <tr>\n",
       "      <th>22</th>\n",
       "      <td>1_1_2013-04-05</td>\n",
       "      <td>37071.019531</td>\n",
       "    </tr>\n",
       "    <tr>\n",
       "      <th>23</th>\n",
       "      <td>1_1_2013-04-12</td>\n",
       "      <td>25393.853516</td>\n",
       "    </tr>\n",
       "    <tr>\n",
       "      <th>24</th>\n",
       "      <td>1_1_2013-04-19</td>\n",
       "      <td>26826.500000</td>\n",
       "    </tr>\n",
       "    <tr>\n",
       "      <th>25</th>\n",
       "      <td>1_1_2013-04-26</td>\n",
       "      <td>23499.748047</td>\n",
       "    </tr>\n",
       "    <tr>\n",
       "      <th>26</th>\n",
       "      <td>1_1_2013-05-03</td>\n",
       "      <td>17589.490234</td>\n",
       "    </tr>\n",
       "    <tr>\n",
       "      <th>27</th>\n",
       "      <td>1_1_2013-05-10</td>\n",
       "      <td>17683.763672</td>\n",
       "    </tr>\n",
       "    <tr>\n",
       "      <th>28</th>\n",
       "      <td>1_1_2013-05-17</td>\n",
       "      <td>15672.504883</td>\n",
       "    </tr>\n",
       "    <tr>\n",
       "      <th>29</th>\n",
       "      <td>1_1_2013-05-24</td>\n",
       "      <td>15738.828125</td>\n",
       "    </tr>\n",
       "    <tr>\n",
       "      <th>30</th>\n",
       "      <td>1_1_2013-05-31</td>\n",
       "      <td>16140.700195</td>\n",
       "    </tr>\n",
       "    <tr>\n",
       "      <th>31</th>\n",
       "      <td>1_1_2013-06-07</td>\n",
       "      <td>16071.916992</td>\n",
       "    </tr>\n",
       "    <tr>\n",
       "      <th>32</th>\n",
       "      <td>1_1_2013-06-14</td>\n",
       "      <td>15816.740234</td>\n",
       "    </tr>\n",
       "    <tr>\n",
       "      <th>33</th>\n",
       "      <td>1_1_2013-06-21</td>\n",
       "      <td>15798.500000</td>\n",
       "    </tr>\n",
       "    <tr>\n",
       "      <th>34</th>\n",
       "      <td>1_1_2013-06-28</td>\n",
       "      <td>15388.408203</td>\n",
       "    </tr>\n",
       "    <tr>\n",
       "      <th>35</th>\n",
       "      <td>1_1_2013-07-05</td>\n",
       "      <td>16674.339844</td>\n",
       "    </tr>\n",
       "    <tr>\n",
       "      <th>36</th>\n",
       "      <td>1_1_2013-07-12</td>\n",
       "      <td>16022.210938</td>\n",
       "    </tr>\n",
       "    <tr>\n",
       "      <th>37</th>\n",
       "      <td>1_1_2013-07-19</td>\n",
       "      <td>15294.567383</td>\n",
       "    </tr>\n",
       "    <tr>\n",
       "      <th>38</th>\n",
       "      <td>1_1_2013-07-26</td>\n",
       "      <td>15032.294922</td>\n",
       "    </tr>\n",
       "    <tr>\n",
       "      <th>39</th>\n",
       "      <td>1_2_2012-11-02</td>\n",
       "      <td>45461.226562</td>\n",
       "    </tr>\n",
       "    <tr>\n",
       "      <th>40</th>\n",
       "      <td>1_2_2012-11-09</td>\n",
       "      <td>42382.687500</td>\n",
       "    </tr>\n",
       "    <tr>\n",
       "      <th>41</th>\n",
       "      <td>1_2_2012-11-16</td>\n",
       "      <td>40240.171875</td>\n",
       "    </tr>\n",
       "    <tr>\n",
       "      <th>42</th>\n",
       "      <td>1_2_2012-11-23</td>\n",
       "      <td>43068.679688</td>\n",
       "    </tr>\n",
       "    <tr>\n",
       "      <th>43</th>\n",
       "      <td>1_2_2012-11-30</td>\n",
       "      <td>43282.007812</td>\n",
       "    </tr>\n",
       "    <tr>\n",
       "      <th>44</th>\n",
       "      <td>1_2_2012-12-07</td>\n",
       "      <td>46111.699219</td>\n",
       "    </tr>\n",
       "    <tr>\n",
       "      <th>45</th>\n",
       "      <td>1_2_2012-12-14</td>\n",
       "      <td>48191.734375</td>\n",
       "    </tr>\n",
       "    <tr>\n",
       "      <th>46</th>\n",
       "      <td>1_2_2012-12-21</td>\n",
       "      <td>58708.566406</td>\n",
       "    </tr>\n",
       "    <tr>\n",
       "      <th>47</th>\n",
       "      <td>1_2_2012-12-28</td>\n",
       "      <td>37604.562500</td>\n",
       "    </tr>\n",
       "    <tr>\n",
       "      <th>48</th>\n",
       "      <td>1_2_2013-01-04</td>\n",
       "      <td>41506.722656</td>\n",
       "    </tr>\n",
       "    <tr>\n",
       "      <th>49</th>\n",
       "      <td>1_2_2013-01-11</td>\n",
       "      <td>39055.636719</td>\n",
       "    </tr>\n",
       "  </tbody>\n",
       "</table>\n",
       "</div>"
      ],
      "text/plain": [
       "                Id  Weekly_Sales\n",
       "0   1_1_2012-11-02  34691.015625\n",
       "1   1_1_2012-11-09  18761.253906\n",
       "2   1_1_2012-11-16  18372.673828\n",
       "3   1_1_2012-11-23  19063.353516\n",
       "4   1_1_2012-11-30  22958.572266\n",
       "5   1_1_2012-12-07  31817.208984\n",
       "6   1_1_2012-12-14  42726.507812\n",
       "7   1_1_2012-12-21  45559.316406\n",
       "8   1_1_2012-12-28  20489.125000\n",
       "9   1_1_2013-01-04  16306.948242\n",
       "10  1_1_2013-01-11  17070.736328\n",
       "11  1_1_2013-01-18  17228.367188\n",
       "12  1_1_2013-01-25  17783.324219\n",
       "13  1_1_2013-02-01  23062.919922\n",
       "14  1_1_2013-02-08  36878.664062\n",
       "15  1_1_2013-02-15  44477.121094\n",
       "16  1_1_2013-02-22  19293.566406\n",
       "17  1_1_2013-03-01  16582.220703\n",
       "18  1_1_2013-03-08  17620.650391\n",
       "19  1_1_2013-03-15  20239.644531\n",
       "20  1_1_2013-03-22  19913.453125\n",
       "21  1_1_2013-03-29  27033.962891\n",
       "22  1_1_2013-04-05  37071.019531\n",
       "23  1_1_2013-04-12  25393.853516\n",
       "24  1_1_2013-04-19  26826.500000\n",
       "25  1_1_2013-04-26  23499.748047\n",
       "26  1_1_2013-05-03  17589.490234\n",
       "27  1_1_2013-05-10  17683.763672\n",
       "28  1_1_2013-05-17  15672.504883\n",
       "29  1_1_2013-05-24  15738.828125\n",
       "30  1_1_2013-05-31  16140.700195\n",
       "31  1_1_2013-06-07  16071.916992\n",
       "32  1_1_2013-06-14  15816.740234\n",
       "33  1_1_2013-06-21  15798.500000\n",
       "34  1_1_2013-06-28  15388.408203\n",
       "35  1_1_2013-07-05  16674.339844\n",
       "36  1_1_2013-07-12  16022.210938\n",
       "37  1_1_2013-07-19  15294.567383\n",
       "38  1_1_2013-07-26  15032.294922\n",
       "39  1_2_2012-11-02  45461.226562\n",
       "40  1_2_2012-11-09  42382.687500\n",
       "41  1_2_2012-11-16  40240.171875\n",
       "42  1_2_2012-11-23  43068.679688\n",
       "43  1_2_2012-11-30  43282.007812\n",
       "44  1_2_2012-12-07  46111.699219\n",
       "45  1_2_2012-12-14  48191.734375\n",
       "46  1_2_2012-12-21  58708.566406\n",
       "47  1_2_2012-12-28  37604.562500\n",
       "48  1_2_2013-01-04  41506.722656\n",
       "49  1_2_2013-01-11  39055.636719"
      ]
     },
     "execution_count": 141,
     "metadata": {},
     "output_type": "execute_result"
    }
   ],
   "source": [
    "testdataframe['Id']  = testdataframe.replace(regex=['S_'], value='')\n",
    "testdataframe['Id']  = testdataframe.replace(regex=['D_'], value='')\n",
    "testdataframe.head(50)"
   ]
  },
  {
   "cell_type": "code",
   "execution_count": 2,
   "metadata": {},
   "outputs": [],
   "source": [
    "testdataframe.to_csv('submission.csv', index=False)\n"
   ]
  },
  {
   "cell_type": "code",
   "execution_count": null,
   "metadata": {},
   "outputs": [],
   "source": []
  }
 ],
 "metadata": {
  "kernelspec": {
   "display_name": "Python 3",
   "language": "python",
   "name": "python3"
  },
  "language_info": {
   "codemirror_mode": {
    "name": "ipython",
    "version": 3
   },
   "file_extension": ".py",
   "mimetype": "text/x-python",
   "name": "python",
   "nbconvert_exporter": "python",
   "pygments_lexer": "ipython3",
   "version": "3.7.7"
  }
 },
 "nbformat": 4,
 "nbformat_minor": 2
}
